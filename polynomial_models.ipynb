{
  "cells": [
    {
      "cell_type": "markdown",
      "metadata": {
        "id": "view-in-github",
        "colab_type": "text"
      },
      "source": [
        "<a href=\"https://colab.research.google.com/github/saadiftikhar04/2-git-practice-Shaf5/blob/main/polynomial_models.ipynb\" target=\"_parent\"><img src=\"https://colab.research.google.com/assets/colab-badge.svg\" alt=\"Open In Colab\"/></a>"
      ]
    },
    {
      "cell_type": "markdown",
      "metadata": {
        "id": "lX0fk5BKpk-f"
      },
      "source": [
        "### Model Complexity and Evaluation\n",
        "\n"
      ]
    },
    {
      "cell_type": "code",
      "execution_count": 1,
      "metadata": {
        "id": "nCedekivpk-h"
      },
      "outputs": [],
      "source": [
        "import matplotlib.pyplot as plt\n",
        "import numpy as np\n",
        "import pandas as pd\n",
        "from sklearn.linear_model import LinearRegression\n",
        "from sklearn.metrics import mean_squared_error"
      ]
    },
    {
      "cell_type": "markdown",
      "metadata": {
        "id": "dsbPBpT0pk-h"
      },
      "source": [
        "### Polynomial Models\n",
        "\n",
        "Thus far, our regression models have taken the form:\n",
        "\n",
        "$$y = \\beta_0 + \\beta_1x_1 + \\beta_2x_2 + ... + \\beta_ix_i$$\n",
        "\n",
        "where all our inputs to the model were linear.  \n",
        "\n",
        "\n",
        "In this notebook, we consider models of the form:\n",
        "\n",
        "$$y = \\beta_0 + \\beta_1x_1 + \\beta_2x_1^2 + ... + \\beta_ix_1^i$$"
      ]
    },
    {
      "cell_type": "markdown",
      "metadata": {
        "id": "6c_-Pe69pk-h"
      },
      "source": [
        "These are commonly referred to as *Polynomial Regression Models* -- however we are still using Linear Regression because the unknown quantities -- $\\beta$ -- are linear."
      ]
    },
    {
      "cell_type": "code",
      "execution_count": 2,
      "metadata": {
        "id": "-X4G5dmCpk-i"
      },
      "outputs": [],
      "source": [
        "#load in the cars data\n",
        "cars = pd.read_csv('https://raw.githubusercontent.com/jfkoehler/nyu_bootcamp_fa25/main/data/mtcars.csv')"
      ]
    },
    {
      "cell_type": "code",
      "execution_count": 3,
      "metadata": {
        "colab": {
          "base_uri": "https://localhost:8080/",
          "height": 112
        },
        "id": "N12V_ZdApk-i",
        "outputId": "56164c3b-5168-4eda-b8a0-66015d7274f2"
      },
      "outputs": [
        {
          "output_type": "execute_result",
          "data": {
            "text/plain": [
              "      Unnamed: 0   mpg  cyl   disp   hp  drat     wt   qsec  vs  am  gear  \\\n",
              "0      Mazda RX4  21.0    6  160.0  110   3.9  2.620  16.46   0   1     4   \n",
              "1  Mazda RX4 Wag  21.0    6  160.0  110   3.9  2.875  17.02   0   1     4   \n",
              "\n",
              "   carb  \n",
              "0     4  \n",
              "1     4  "
            ],
            "text/html": [
              "\n",
              "  <div id=\"df-98e58fff-034a-4cf0-a463-6bafb12a4dd4\" class=\"colab-df-container\">\n",
              "    <div>\n",
              "<style scoped>\n",
              "    .dataframe tbody tr th:only-of-type {\n",
              "        vertical-align: middle;\n",
              "    }\n",
              "\n",
              "    .dataframe tbody tr th {\n",
              "        vertical-align: top;\n",
              "    }\n",
              "\n",
              "    .dataframe thead th {\n",
              "        text-align: right;\n",
              "    }\n",
              "</style>\n",
              "<table border=\"1\" class=\"dataframe\">\n",
              "  <thead>\n",
              "    <tr style=\"text-align: right;\">\n",
              "      <th></th>\n",
              "      <th>Unnamed: 0</th>\n",
              "      <th>mpg</th>\n",
              "      <th>cyl</th>\n",
              "      <th>disp</th>\n",
              "      <th>hp</th>\n",
              "      <th>drat</th>\n",
              "      <th>wt</th>\n",
              "      <th>qsec</th>\n",
              "      <th>vs</th>\n",
              "      <th>am</th>\n",
              "      <th>gear</th>\n",
              "      <th>carb</th>\n",
              "    </tr>\n",
              "  </thead>\n",
              "  <tbody>\n",
              "    <tr>\n",
              "      <th>0</th>\n",
              "      <td>Mazda RX4</td>\n",
              "      <td>21.0</td>\n",
              "      <td>6</td>\n",
              "      <td>160.0</td>\n",
              "      <td>110</td>\n",
              "      <td>3.9</td>\n",
              "      <td>2.620</td>\n",
              "      <td>16.46</td>\n",
              "      <td>0</td>\n",
              "      <td>1</td>\n",
              "      <td>4</td>\n",
              "      <td>4</td>\n",
              "    </tr>\n",
              "    <tr>\n",
              "      <th>1</th>\n",
              "      <td>Mazda RX4 Wag</td>\n",
              "      <td>21.0</td>\n",
              "      <td>6</td>\n",
              "      <td>160.0</td>\n",
              "      <td>110</td>\n",
              "      <td>3.9</td>\n",
              "      <td>2.875</td>\n",
              "      <td>17.02</td>\n",
              "      <td>0</td>\n",
              "      <td>1</td>\n",
              "      <td>4</td>\n",
              "      <td>4</td>\n",
              "    </tr>\n",
              "  </tbody>\n",
              "</table>\n",
              "</div>\n",
              "    <div class=\"colab-df-buttons\">\n",
              "\n",
              "  <div class=\"colab-df-container\">\n",
              "    <button class=\"colab-df-convert\" onclick=\"convertToInteractive('df-98e58fff-034a-4cf0-a463-6bafb12a4dd4')\"\n",
              "            title=\"Convert this dataframe to an interactive table.\"\n",
              "            style=\"display:none;\">\n",
              "\n",
              "  <svg xmlns=\"http://www.w3.org/2000/svg\" height=\"24px\" viewBox=\"0 -960 960 960\">\n",
              "    <path d=\"M120-120v-720h720v720H120Zm60-500h600v-160H180v160Zm220 220h160v-160H400v160Zm0 220h160v-160H400v160ZM180-400h160v-160H180v160Zm440 0h160v-160H620v160ZM180-180h160v-160H180v160Zm440 0h160v-160H620v160Z\"/>\n",
              "  </svg>\n",
              "    </button>\n",
              "\n",
              "  <style>\n",
              "    .colab-df-container {\n",
              "      display:flex;\n",
              "      gap: 12px;\n",
              "    }\n",
              "\n",
              "    .colab-df-convert {\n",
              "      background-color: #E8F0FE;\n",
              "      border: none;\n",
              "      border-radius: 50%;\n",
              "      cursor: pointer;\n",
              "      display: none;\n",
              "      fill: #1967D2;\n",
              "      height: 32px;\n",
              "      padding: 0 0 0 0;\n",
              "      width: 32px;\n",
              "    }\n",
              "\n",
              "    .colab-df-convert:hover {\n",
              "      background-color: #E2EBFA;\n",
              "      box-shadow: 0px 1px 2px rgba(60, 64, 67, 0.3), 0px 1px 3px 1px rgba(60, 64, 67, 0.15);\n",
              "      fill: #174EA6;\n",
              "    }\n",
              "\n",
              "    .colab-df-buttons div {\n",
              "      margin-bottom: 4px;\n",
              "    }\n",
              "\n",
              "    [theme=dark] .colab-df-convert {\n",
              "      background-color: #3B4455;\n",
              "      fill: #D2E3FC;\n",
              "    }\n",
              "\n",
              "    [theme=dark] .colab-df-convert:hover {\n",
              "      background-color: #434B5C;\n",
              "      box-shadow: 0px 1px 3px 1px rgba(0, 0, 0, 0.15);\n",
              "      filter: drop-shadow(0px 1px 2px rgba(0, 0, 0, 0.3));\n",
              "      fill: #FFFFFF;\n",
              "    }\n",
              "  </style>\n",
              "\n",
              "    <script>\n",
              "      const buttonEl =\n",
              "        document.querySelector('#df-98e58fff-034a-4cf0-a463-6bafb12a4dd4 button.colab-df-convert');\n",
              "      buttonEl.style.display =\n",
              "        google.colab.kernel.accessAllowed ? 'block' : 'none';\n",
              "\n",
              "      async function convertToInteractive(key) {\n",
              "        const element = document.querySelector('#df-98e58fff-034a-4cf0-a463-6bafb12a4dd4');\n",
              "        const dataTable =\n",
              "          await google.colab.kernel.invokeFunction('convertToInteractive',\n",
              "                                                    [key], {});\n",
              "        if (!dataTable) return;\n",
              "\n",
              "        const docLinkHtml = 'Like what you see? Visit the ' +\n",
              "          '<a target=\"_blank\" href=https://colab.research.google.com/notebooks/data_table.ipynb>data table notebook</a>'\n",
              "          + ' to learn more about interactive tables.';\n",
              "        element.innerHTML = '';\n",
              "        dataTable['output_type'] = 'display_data';\n",
              "        await google.colab.output.renderOutput(dataTable, element);\n",
              "        const docLink = document.createElement('div');\n",
              "        docLink.innerHTML = docLinkHtml;\n",
              "        element.appendChild(docLink);\n",
              "      }\n",
              "    </script>\n",
              "  </div>\n",
              "\n",
              "\n",
              "    <div id=\"df-017dc04b-c6ac-43ef-b00e-d3d9fca45d53\">\n",
              "      <button class=\"colab-df-quickchart\" onclick=\"quickchart('df-017dc04b-c6ac-43ef-b00e-d3d9fca45d53')\"\n",
              "                title=\"Suggest charts\"\n",
              "                style=\"display:none;\">\n",
              "\n",
              "<svg xmlns=\"http://www.w3.org/2000/svg\" height=\"24px\"viewBox=\"0 0 24 24\"\n",
              "     width=\"24px\">\n",
              "    <g>\n",
              "        <path d=\"M19 3H5c-1.1 0-2 .9-2 2v14c0 1.1.9 2 2 2h14c1.1 0 2-.9 2-2V5c0-1.1-.9-2-2-2zM9 17H7v-7h2v7zm4 0h-2V7h2v10zm4 0h-2v-4h2v4z\"/>\n",
              "    </g>\n",
              "</svg>\n",
              "      </button>\n",
              "\n",
              "<style>\n",
              "  .colab-df-quickchart {\n",
              "      --bg-color: #E8F0FE;\n",
              "      --fill-color: #1967D2;\n",
              "      --hover-bg-color: #E2EBFA;\n",
              "      --hover-fill-color: #174EA6;\n",
              "      --disabled-fill-color: #AAA;\n",
              "      --disabled-bg-color: #DDD;\n",
              "  }\n",
              "\n",
              "  [theme=dark] .colab-df-quickchart {\n",
              "      --bg-color: #3B4455;\n",
              "      --fill-color: #D2E3FC;\n",
              "      --hover-bg-color: #434B5C;\n",
              "      --hover-fill-color: #FFFFFF;\n",
              "      --disabled-bg-color: #3B4455;\n",
              "      --disabled-fill-color: #666;\n",
              "  }\n",
              "\n",
              "  .colab-df-quickchart {\n",
              "    background-color: var(--bg-color);\n",
              "    border: none;\n",
              "    border-radius: 50%;\n",
              "    cursor: pointer;\n",
              "    display: none;\n",
              "    fill: var(--fill-color);\n",
              "    height: 32px;\n",
              "    padding: 0;\n",
              "    width: 32px;\n",
              "  }\n",
              "\n",
              "  .colab-df-quickchart:hover {\n",
              "    background-color: var(--hover-bg-color);\n",
              "    box-shadow: 0 1px 2px rgba(60, 64, 67, 0.3), 0 1px 3px 1px rgba(60, 64, 67, 0.15);\n",
              "    fill: var(--button-hover-fill-color);\n",
              "  }\n",
              "\n",
              "  .colab-df-quickchart-complete:disabled,\n",
              "  .colab-df-quickchart-complete:disabled:hover {\n",
              "    background-color: var(--disabled-bg-color);\n",
              "    fill: var(--disabled-fill-color);\n",
              "    box-shadow: none;\n",
              "  }\n",
              "\n",
              "  .colab-df-spinner {\n",
              "    border: 2px solid var(--fill-color);\n",
              "    border-color: transparent;\n",
              "    border-bottom-color: var(--fill-color);\n",
              "    animation:\n",
              "      spin 1s steps(1) infinite;\n",
              "  }\n",
              "\n",
              "  @keyframes spin {\n",
              "    0% {\n",
              "      border-color: transparent;\n",
              "      border-bottom-color: var(--fill-color);\n",
              "      border-left-color: var(--fill-color);\n",
              "    }\n",
              "    20% {\n",
              "      border-color: transparent;\n",
              "      border-left-color: var(--fill-color);\n",
              "      border-top-color: var(--fill-color);\n",
              "    }\n",
              "    30% {\n",
              "      border-color: transparent;\n",
              "      border-left-color: var(--fill-color);\n",
              "      border-top-color: var(--fill-color);\n",
              "      border-right-color: var(--fill-color);\n",
              "    }\n",
              "    40% {\n",
              "      border-color: transparent;\n",
              "      border-right-color: var(--fill-color);\n",
              "      border-top-color: var(--fill-color);\n",
              "    }\n",
              "    60% {\n",
              "      border-color: transparent;\n",
              "      border-right-color: var(--fill-color);\n",
              "    }\n",
              "    80% {\n",
              "      border-color: transparent;\n",
              "      border-right-color: var(--fill-color);\n",
              "      border-bottom-color: var(--fill-color);\n",
              "    }\n",
              "    90% {\n",
              "      border-color: transparent;\n",
              "      border-bottom-color: var(--fill-color);\n",
              "    }\n",
              "  }\n",
              "</style>\n",
              "\n",
              "      <script>\n",
              "        async function quickchart(key) {\n",
              "          const quickchartButtonEl =\n",
              "            document.querySelector('#' + key + ' button');\n",
              "          quickchartButtonEl.disabled = true;  // To prevent multiple clicks.\n",
              "          quickchartButtonEl.classList.add('colab-df-spinner');\n",
              "          try {\n",
              "            const charts = await google.colab.kernel.invokeFunction(\n",
              "                'suggestCharts', [key], {});\n",
              "          } catch (error) {\n",
              "            console.error('Error during call to suggestCharts:', error);\n",
              "          }\n",
              "          quickchartButtonEl.classList.remove('colab-df-spinner');\n",
              "          quickchartButtonEl.classList.add('colab-df-quickchart-complete');\n",
              "        }\n",
              "        (() => {\n",
              "          let quickchartButtonEl =\n",
              "            document.querySelector('#df-017dc04b-c6ac-43ef-b00e-d3d9fca45d53 button');\n",
              "          quickchartButtonEl.style.display =\n",
              "            google.colab.kernel.accessAllowed ? 'block' : 'none';\n",
              "        })();\n",
              "      </script>\n",
              "    </div>\n",
              "\n",
              "    </div>\n",
              "  </div>\n"
            ],
            "application/vnd.google.colaboratory.intrinsic+json": {
              "type": "dataframe",
              "variable_name": "cars",
              "summary": "{\n  \"name\": \"cars\",\n  \"rows\": 32,\n  \"fields\": [\n    {\n      \"column\": \"Unnamed: 0\",\n      \"properties\": {\n        \"dtype\": \"string\",\n        \"num_unique_values\": 32,\n        \"samples\": [\n          \"Ferrari Dino\",\n          \"Lincoln Continental\",\n          \"Pontiac Firebird\"\n        ],\n        \"semantic_type\": \"\",\n        \"description\": \"\"\n      }\n    },\n    {\n      \"column\": \"mpg\",\n      \"properties\": {\n        \"dtype\": \"number\",\n        \"std\": 6.026948052089105,\n        \"min\": 10.4,\n        \"max\": 33.9,\n        \"num_unique_values\": 25,\n        \"samples\": [\n          17.8,\n          33.9,\n          21.0\n        ],\n        \"semantic_type\": \"\",\n        \"description\": \"\"\n      }\n    },\n    {\n      \"column\": \"cyl\",\n      \"properties\": {\n        \"dtype\": \"number\",\n        \"std\": 1,\n        \"min\": 4,\n        \"max\": 8,\n        \"num_unique_values\": 3,\n        \"samples\": [\n          6,\n          4,\n          8\n        ],\n        \"semantic_type\": \"\",\n        \"description\": \"\"\n      }\n    },\n    {\n      \"column\": \"disp\",\n      \"properties\": {\n        \"dtype\": \"number\",\n        \"std\": 123.93869383138194,\n        \"min\": 71.1,\n        \"max\": 472.0,\n        \"num_unique_values\": 27,\n        \"samples\": [\n          275.8,\n          75.7,\n          472.0\n        ],\n        \"semantic_type\": \"\",\n        \"description\": \"\"\n      }\n    },\n    {\n      \"column\": \"hp\",\n      \"properties\": {\n        \"dtype\": \"number\",\n        \"std\": 68,\n        \"min\": 52,\n        \"max\": 335,\n        \"num_unique_values\": 22,\n        \"samples\": [\n          110,\n          52,\n          180\n        ],\n        \"semantic_type\": \"\",\n        \"description\": \"\"\n      }\n    },\n    {\n      \"column\": \"drat\",\n      \"properties\": {\n        \"dtype\": \"number\",\n        \"std\": 0.5346787360709716,\n        \"min\": 2.76,\n        \"max\": 4.93,\n        \"num_unique_values\": 22,\n        \"samples\": [\n          3.9,\n          4.93,\n          3.07\n        ],\n        \"semantic_type\": \"\",\n        \"description\": \"\"\n      }\n    },\n    {\n      \"column\": \"wt\",\n      \"properties\": {\n        \"dtype\": \"number\",\n        \"std\": 0.9784574429896967,\n        \"min\": 1.513,\n        \"max\": 5.424,\n        \"num_unique_values\": 29,\n        \"samples\": [\n          2.77,\n          1.615,\n          5.25\n        ],\n        \"semantic_type\": \"\",\n        \"description\": \"\"\n      }\n    },\n    {\n      \"column\": \"qsec\",\n      \"properties\": {\n        \"dtype\": \"number\",\n        \"std\": 1.7869432360968431,\n        \"min\": 14.5,\n        \"max\": 22.9,\n        \"num_unique_values\": 30,\n        \"samples\": [\n          15.5,\n          17.42,\n          17.05\n        ],\n        \"semantic_type\": \"\",\n        \"description\": \"\"\n      }\n    },\n    {\n      \"column\": \"vs\",\n      \"properties\": {\n        \"dtype\": \"number\",\n        \"std\": 0,\n        \"min\": 0,\n        \"max\": 1,\n        \"num_unique_values\": 2,\n        \"samples\": [\n          1,\n          0\n        ],\n        \"semantic_type\": \"\",\n        \"description\": \"\"\n      }\n    },\n    {\n      \"column\": \"am\",\n      \"properties\": {\n        \"dtype\": \"number\",\n        \"std\": 0,\n        \"min\": 0,\n        \"max\": 1,\n        \"num_unique_values\": 2,\n        \"samples\": [\n          0,\n          1\n        ],\n        \"semantic_type\": \"\",\n        \"description\": \"\"\n      }\n    },\n    {\n      \"column\": \"gear\",\n      \"properties\": {\n        \"dtype\": \"number\",\n        \"std\": 0,\n        \"min\": 3,\n        \"max\": 5,\n        \"num_unique_values\": 3,\n        \"samples\": [\n          4,\n          3\n        ],\n        \"semantic_type\": \"\",\n        \"description\": \"\"\n      }\n    },\n    {\n      \"column\": \"carb\",\n      \"properties\": {\n        \"dtype\": \"number\",\n        \"std\": 1,\n        \"min\": 1,\n        \"max\": 8,\n        \"num_unique_values\": 6,\n        \"samples\": [\n          4,\n          1\n        ],\n        \"semantic_type\": \"\",\n        \"description\": \"\"\n      }\n    }\n  ]\n}"
            }
          },
          "metadata": {},
          "execution_count": 3
        }
      ],
      "source": [
        "cars.head(2)"
      ]
    },
    {
      "cell_type": "code",
      "execution_count": 4,
      "metadata": {
        "id": "PyU_RI_1pk-i"
      },
      "outputs": [],
      "source": [
        "#x = mpg and y = hp\n",
        "X = cars[['mpg']]\n",
        "y = cars['hp']"
      ]
    },
    {
      "cell_type": "code",
      "execution_count": 5,
      "metadata": {
        "colab": {
          "base_uri": "https://localhost:8080/",
          "height": 448
        },
        "id": "d6dxFpFRpk-i",
        "outputId": "ec096a55-1ff3-4ab7-ee00-a97fc0121f61"
      },
      "outputs": [
        {
          "output_type": "execute_result",
          "data": {
            "text/plain": [
              "<matplotlib.collections.PathCollection at 0x79dec32e5b50>"
            ]
          },
          "metadata": {},
          "execution_count": 5
        },
        {
          "output_type": "display_data",
          "data": {
            "text/plain": [
              "<Figure size 640x480 with 1 Axes>"
            ],
            "image/png": "[encoded data removed]"
          },
          "metadata": {}
        }
      ],
      "source": [
        "#scatter plot of x vs. y\n",
        "plt.scatter(X, y)"
      ]
    },
    {
      "cell_type": "markdown",
      "metadata": {
        "id": "T1j_TD2jpk-i"
      },
      "source": [
        "### Reminder on Least Squares\n",
        "\n",
        "$$MSE(m, b) = \\frac{1}{n}\\sum_{i = 1}^n (y_i - (mx_i + b))^2$$"
      ]
    },
    {
      "cell_type": "markdown",
      "metadata": {
        "id": "2YUIEM1dBPcS"
      },
      "source": [
        "**Assumptions of the model**\n",
        "\n",
        "- The relationship between features and target are linear in nature\n",
        "- The features are independent of one another\n",
        "- The errors are normally distributed\n",
        "- The residuals have constant variance across all feature values"
      ]
    },
    {
      "cell_type": "code",
      "execution_count": 6,
      "metadata": {
        "id": "p9OmCB2Opk-j"
      },
      "outputs": [],
      "source": [
        "#fit model\n",
        "lr = LinearRegression()\n",
        "lr.fit(X, y)\n",
        "preds = lr.predict(X)"
      ]
    },
    {
      "cell_type": "code",
      "execution_count": 7,
      "metadata": {
        "colab": {
          "base_uri": "https://localhost:8080/",
          "height": 305
        },
        "id": "ShYUlEKupk-j",
        "outputId": "9f460088-a375-47b2-9e49-965832c71597"
      },
      "outputs": [
        {
          "output_type": "execute_result",
          "data": {
            "text/plain": [
              "[<matplotlib.lines.Line2D at 0x79dec2550350>]"
            ]
          },
          "metadata": {},
          "execution_count": 7
        },
        {
          "output_type": "display_data",
          "data": {
            "text/plain": [
              "<Figure size 2000x300 with 3 Axes>"
            ],
            "image/png": "[encoded data removed]"
          },
          "metadata": {}
        }
      ],
      "source": [
        "#plot residuals\n",
        "resids = (y - preds)\n",
        "\n",
        "fig, ax = plt.subplots(1, 3, figsize = (20, 3))\n",
        "\n",
        "ax[0].plot(resids, 'o')\n",
        "ax[0].axhline(color = 'black')\n",
        "ax[1].hist(resids)\n",
        "ax[2].scatter(X['mpg'], y)\n",
        "ax[2].plot(X['mpg'], lr.predict(X))"
      ]
    },
    {
      "cell_type": "code",
      "execution_count": 8,
      "metadata": {
        "id": "j_PKJBIupk-j"
      },
      "outputs": [],
      "source": [
        "#Any assumptions violated?  Why?"
      ]
    },
    {
      "cell_type": "markdown",
      "metadata": {
        "id": "uTRrU5Igpk-j"
      },
      "source": [
        "### Reminder: Quadratics\n",
        "\n",
        "$$f(x) = ax^2 + bx + c$$\n",
        "\n",
        "\n",
        "$$f(a, b, c) = \\frac{1}{n}\\sum_{i = 1}^n (y_i - (ax_i^2 + bx_i + c))^2$$"
      ]
    },
    {
      "cell_type": "markdown",
      "metadata": {
        "id": "IwZdDCzQpk-j"
      },
      "source": [
        "In plain language, we add a new feature to represent the quadratic term and fit a linear regressor to these columns, essentially what we've done with multiple regression."
      ]
    },
    {
      "cell_type": "code",
      "execution_count": 9,
      "metadata": {
        "colab": {
          "base_uri": "https://localhost:8080/",
          "height": 206
        },
        "id": "_jXJM7OFpk-j",
        "outputId": "9b24e78c-bd78-42e6-fdd0-19df362dea99"
      },
      "outputs": [
        {
          "output_type": "execute_result",
          "data": {
            "text/plain": [
              "    mpg\n",
              "0  21.0\n",
              "1  21.0\n",
              "2  22.8\n",
              "3  21.4\n",
              "4  18.7"
            ],
            "text/html": [
              "\n",
              "  <div id=\"df-808ca3dd-3845-4ed8-abc9-1309ef42bdd7\" class=\"colab-df-container\">\n",
              "    <div>\n",
              "<style scoped>\n",
              "    .dataframe tbody tr th:only-of-type {\n",
              "        vertical-align: middle;\n",
              "    }\n",
              "\n",
              "    .dataframe tbody tr th {\n",
              "        vertical-align: top;\n",
              "    }\n",
              "\n",
              "    .dataframe thead th {\n",
              "        text-align: right;\n",
              "    }\n",
              "</style>\n",
              "<table border=\"1\" class=\"dataframe\">\n",
              "  <thead>\n",
              "    <tr style=\"text-align: right;\">\n",
              "      <th></th>\n",
              "      <th>mpg</th>\n",
              "    </tr>\n",
              "  </thead>\n",
              "  <tbody>\n",
              "    <tr>\n",
              "      <th>0</th>\n",
              "      <td>21.0</td>\n",
              "    </tr>\n",
              "    <tr>\n",
              "      <th>1</th>\n",
              "      <td>21.0</td>\n",
              "    </tr>\n",
              "    <tr>\n",
              "      <th>2</th>\n",
              "      <td>22.8</td>\n",
              "    </tr>\n",
              "    <tr>\n",
              "      <th>3</th>\n",
              "      <td>21.4</td>\n",
              "    </tr>\n",
              "    <tr>\n",
              "      <th>4</th>\n",
              "      <td>18.7</td>\n",
              "    </tr>\n",
              "  </tbody>\n",
              "</table>\n",
              "</div>\n",
              "    <div class=\"colab-df-buttons\">\n",
              "\n",
              "  <div class=\"colab-df-container\">\n",
              "    <button class=\"colab-df-convert\" onclick=\"convertToInteractive('df-808ca3dd-3845-4ed8-abc9-1309ef42bdd7')\"\n",
              "            title=\"Convert this dataframe to an interactive table.\"\n",
              "            style=\"display:none;\">\n",
              "\n",
              "  <svg xmlns=\"http://www.w3.org/2000/svg\" height=\"24px\" viewBox=\"0 -960 960 960\">\n",
              "    <path d=\"M120-120v-720h720v720H120Zm60-500h600v-160H180v160Zm220 220h160v-160H400v160Zm0 220h160v-160H400v160ZM180-400h160v-160H180v160Zm440 0h160v-160H620v160ZM180-180h160v-160H180v160Zm440 0h160v-160H620v160Z\"/>\n",
              "  </svg>\n",
              "    </button>\n",
              "\n",
              "  <style>\n",
              "    .colab-df-container {\n",
              "      display:flex;\n",
              "      gap: 12px;\n",
              "    }\n",
              "\n",
              "    .colab-df-convert {\n",
              "      background-color: #E8F0FE;\n",
              "      border: none;\n",
              "      border-radius: 50%;\n",
              "      cursor: pointer;\n",
              "      display: none;\n",
              "      fill: #1967D2;\n",
              "      height: 32px;\n",
              "      padding: 0 0 0 0;\n",
              "      width: 32px;\n",
              "    }\n",
              "\n",
              "    .colab-df-convert:hover {\n",
              "      background-color: #E2EBFA;\n",
              "      box-shadow: 0px 1px 2px rgba(60, 64, 67, 0.3), 0px 1px 3px 1px rgba(60, 64, 67, 0.15);\n",
              "      fill: #174EA6;\n",
              "    }\n",
              "\n",
              "    .colab-df-buttons div {\n",
              "      margin-bottom: 4px;\n",
              "    }\n",
              "\n",
              "    [theme=dark] .colab-df-convert {\n",
              "      background-color: #3B4455;\n",
              "      fill: #D2E3FC;\n",
              "    }\n",
              "\n",
              "    [theme=dark] .colab-df-convert:hover {\n",
              "      background-color: #434B5C;\n",
              "      box-shadow: 0px 1px 3px 1px rgba(0, 0, 0, 0.15);\n",
              "      filter: drop-shadow(0px 1px 2px rgba(0, 0, 0, 0.3));\n",
              "      fill: #FFFFFF;\n",
              "    }\n",
              "  </style>\n",
              "\n",
              "    <script>\n",
              "      const buttonEl =\n",
              "        document.querySelector('#df-808ca3dd-3845-4ed8-abc9-1309ef42bdd7 button.colab-df-convert');\n",
              "      buttonEl.style.display =\n",
              "        google.colab.kernel.accessAllowed ? 'block' : 'none';\n",
              "\n",
              "      async function convertToInteractive(key) {\n",
              "        const element = document.querySelector('#df-808ca3dd-3845-4ed8-abc9-1309ef42bdd7');\n",
              "        const dataTable =\n",
              "          await google.colab.kernel.invokeFunction('convertToInteractive',\n",
              "                                                    [key], {});\n",
              "        if (!dataTable) return;\n",
              "\n",
              "        const docLinkHtml = 'Like what you see? Visit the ' +\n",
              "          '<a target=\"_blank\" href=https://colab.research.google.com/notebooks/data_table.ipynb>data table notebook</a>'\n",
              "          + ' to learn more about interactive tables.';\n",
              "        element.innerHTML = '';\n",
              "        dataTable['output_type'] = 'display_data';\n",
              "        await google.colab.output.renderOutput(dataTable, element);\n",
              "        const docLink = document.createElement('div');\n",
              "        docLink.innerHTML = docLinkHtml;\n",
              "        element.appendChild(docLink);\n",
              "      }\n",
              "    </script>\n",
              "  </div>\n",
              "\n",
              "\n",
              "    <div id=\"df-e41c7633-2671-4667-905a-e72a0efc848b\">\n",
              "      <button class=\"colab-df-quickchart\" onclick=\"quickchart('df-e41c7633-2671-4667-905a-e72a0efc848b')\"\n",
              "                title=\"Suggest charts\"\n",
              "                style=\"display:none;\">\n",
              "\n",
              "<svg xmlns=\"http://www.w3.org/2000/svg\" height=\"24px\"viewBox=\"0 0 24 24\"\n",
              "     width=\"24px\">\n",
              "    <g>\n",
              "        <path d=\"M19 3H5c-1.1 0-2 .9-2 2v14c0 1.1.9 2 2 2h14c1.1 0 2-.9 2-2V5c0-1.1-.9-2-2-2zM9 17H7v-7h2v7zm4 0h-2V7h2v10zm4 0h-2v-4h2v4z\"/>\n",
              "    </g>\n",
              "</svg>\n",
              "      </button>\n",
              "\n",
              "<style>\n",
              "  .colab-df-quickchart {\n",
              "      --bg-color: #E8F0FE;\n",
              "      --fill-color: #1967D2;\n",
              "      --hover-bg-color: #E2EBFA;\n",
              "      --hover-fill-color: #174EA6;\n",
              "      --disabled-fill-color: #AAA;\n",
              "      --disabled-bg-color: #DDD;\n",
              "  }\n",
              "\n",
              "  [theme=dark] .colab-df-quickchart {\n",
              "      --bg-color: #3B4455;\n",
              "      --fill-color: #D2E3FC;\n",
              "      --hover-bg-color: #434B5C;\n",
              "      --hover-fill-color: #FFFFFF;\n",
              "      --disabled-bg-color: #3B4455;\n",
              "      --disabled-fill-color: #666;\n",
              "  }\n",
              "\n",
              "  .colab-df-quickchart {\n",
              "    background-color: var(--bg-color);\n",
              "    border: none;\n",
              "    border-radius: 50%;\n",
              "    cursor: pointer;\n",
              "    display: none;\n",
              "    fill: var(--fill-color);\n",
              "    height: 32px;\n",
              "    padding: 0;\n",
              "    width: 32px;\n",
              "  }\n",
              "\n",
              "  .colab-df-quickchart:hover {\n",
              "    background-color: var(--hover-bg-color);\n",
              "    box-shadow: 0 1px 2px rgba(60, 64, 67, 0.3), 0 1px 3px 1px rgba(60, 64, 67, 0.15);\n",
              "    fill: var(--button-hover-fill-color);\n",
              "  }\n",
              "\n",
              "  .colab-df-quickchart-complete:disabled,\n",
              "  .colab-df-quickchart-complete:disabled:hover {\n",
              "    background-color: var(--disabled-bg-color);\n",
              "    fill: var(--disabled-fill-color);\n",
              "    box-shadow: none;\n",
              "  }\n",
              "\n",
              "  .colab-df-spinner {\n",
              "    border: 2px solid var(--fill-color);\n",
              "    border-color: transparent;\n",
              "    border-bottom-color: var(--fill-color);\n",
              "    animation:\n",
              "      spin 1s steps(1) infinite;\n",
              "  }\n",
              "\n",
              "  @keyframes spin {\n",
              "    0% {\n",
              "      border-color: transparent;\n",
              "      border-bottom-color: var(--fill-color);\n",
              "      border-left-color: var(--fill-color);\n",
              "    }\n",
              "    20% {\n",
              "      border-color: transparent;\n",
              "      border-left-color: var(--fill-color);\n",
              "      border-top-color: var(--fill-color);\n",
              "    }\n",
              "    30% {\n",
              "      border-color: transparent;\n",
              "      border-left-color: var(--fill-color);\n",
              "      border-top-color: var(--fill-color);\n",
              "      border-right-color: var(--fill-color);\n",
              "    }\n",
              "    40% {\n",
              "      border-color: transparent;\n",
              "      border-right-color: var(--fill-color);\n",
              "      border-top-color: var(--fill-color);\n",
              "    }\n",
              "    60% {\n",
              "      border-color: transparent;\n",
              "      border-right-color: var(--fill-color);\n",
              "    }\n",
              "    80% {\n",
              "      border-color: transparent;\n",
              "      border-right-color: var(--fill-color);\n",
              "      border-bottom-color: var(--fill-color);\n",
              "    }\n",
              "    90% {\n",
              "      border-color: transparent;\n",
              "      border-bottom-color: var(--fill-color);\n",
              "    }\n",
              "  }\n",
              "</style>\n",
              "\n",
              "      <script>\n",
              "        async function quickchart(key) {\n",
              "          const quickchartButtonEl =\n",
              "            document.querySelector('#' + key + ' button');\n",
              "          quickchartButtonEl.disabled = true;  // To prevent multiple clicks.\n",
              "          quickchartButtonEl.classList.add('colab-df-spinner');\n",
              "          try {\n",
              "            const charts = await google.colab.kernel.invokeFunction(\n",
              "                'suggestCharts', [key], {});\n",
              "          } catch (error) {\n",
              "            console.error('Error during call to suggestCharts:', error);\n",
              "          }\n",
              "          quickchartButtonEl.classList.remove('colab-df-spinner');\n",
              "          quickchartButtonEl.classList.add('colab-df-quickchart-complete');\n",
              "        }\n",
              "        (() => {\n",
              "          let quickchartButtonEl =\n",
              "            document.querySelector('#df-e41c7633-2671-4667-905a-e72a0efc848b button');\n",
              "          quickchartButtonEl.style.display =\n",
              "            google.colab.kernel.accessAllowed ? 'block' : 'none';\n",
              "        })();\n",
              "      </script>\n",
              "    </div>\n",
              "\n",
              "    </div>\n",
              "  </div>\n"
            ],
            "application/vnd.google.colaboratory.intrinsic+json": {
              "type": "dataframe",
              "variable_name": "X",
              "summary": "{\n  \"name\": \"X\",\n  \"rows\": 32,\n  \"fields\": [\n    {\n      \"column\": \"mpg\",\n      \"properties\": {\n        \"dtype\": \"number\",\n        \"std\": 6.026948052089105,\n        \"min\": 10.4,\n        \"max\": 33.9,\n        \"num_unique_values\": 25,\n        \"samples\": [\n          17.8,\n          33.9,\n          21.0\n        ],\n        \"semantic_type\": \"\",\n        \"description\": \"\"\n      }\n    }\n  ]\n}"
            }
          },
          "metadata": {},
          "execution_count": 9
        }
      ],
      "source": [
        "#examine X\n",
        "X.head()"
      ]
    },
    {
      "cell_type": "code",
      "execution_count": 10,
      "metadata": {
        "colab": {
          "base_uri": "https://localhost:8080/"
        },
        "id": "i6N7Sdt_pk-k",
        "outputId": "7a770cf3-c863-416e-d683-609ceb9beaed"
      },
      "outputs": [
        {
          "output_type": "stream",
          "name": "stderr",
          "text": [
            "/tmp/ipython-input-1230039856.py:2: SettingWithCopyWarning: \n",
            "A value is trying to be set on a copy of a slice from a DataFrame.\n",
            "Try using .loc[row_indexer,col_indexer] = value instead\n",
            "\n",
            "See the caveats in the documentation: https://pandas.pydata.org/pandas-docs/stable/user_guide/indexing.html#returning-a-view-versus-a-copy\n",
            "  X['mpg^2'] = X['mpg']**2\n"
          ]
        }
      ],
      "source": [
        "#add new feature\n",
        "X['mpg^2'] = X['mpg']**2"
      ]
    },
    {
      "cell_type": "code",
      "execution_count": 11,
      "metadata": {
        "colab": {
          "base_uri": "https://localhost:8080/",
          "height": 112
        },
        "id": "7G0o1YqPpk-k",
        "outputId": "38d6ae4a-bdbc-4b55-d3af-0e34cab4944e"
      },
      "outputs": [
        {
          "output_type": "execute_result",
          "data": {
            "text/plain": [
              "    mpg  mpg^2\n",
              "0  21.0  441.0\n",
              "1  21.0  441.0"
            ],
            "text/html": [
              "\n",
              "  <div id=\"df-0b6aa2a2-f901-407a-91cc-e557b647003e\" class=\"colab-df-container\">\n",
              "    <div>\n",
              "<style scoped>\n",
              "    .dataframe tbody tr th:only-of-type {\n",
              "        vertical-align: middle;\n",
              "    }\n",
              "\n",
              "    .dataframe tbody tr th {\n",
              "        vertical-align: top;\n",
              "    }\n",
              "\n",
              "    .dataframe thead th {\n",
              "        text-align: right;\n",
              "    }\n",
              "</style>\n",
              "<table border=\"1\" class=\"dataframe\">\n",
              "  <thead>\n",
              "    <tr style=\"text-align: right;\">\n",
              "      <th></th>\n",
              "      <th>mpg</th>\n",
              "      <th>mpg^2</th>\n",
              "    </tr>\n",
              "  </thead>\n",
              "  <tbody>\n",
              "    <tr>\n",
              "      <th>0</th>\n",
              "      <td>21.0</td>\n",
              "      <td>441.0</td>\n",
              "    </tr>\n",
              "    <tr>\n",
              "      <th>1</th>\n",
              "      <td>21.0</td>\n",
              "      <td>441.0</td>\n",
              "    </tr>\n",
              "  </tbody>\n",
              "</table>\n",
              "</div>\n",
              "    <div class=\"colab-df-buttons\">\n",
              "\n",
              "  <div class=\"colab-df-container\">\n",
              "    <button class=\"colab-df-convert\" onclick=\"convertToInteractive('df-0b6aa2a2-f901-407a-91cc-e557b647003e')\"\n",
              "            title=\"Convert this dataframe to an interactive table.\"\n",
              "            style=\"display:none;\">\n",
              "\n",
              "  <svg xmlns=\"http://www.w3.org/2000/svg\" height=\"24px\" viewBox=\"0 -960 960 960\">\n",
              "    <path d=\"M120-120v-720h720v720H120Zm60-500h600v-160H180v160Zm220 220h160v-160H400v160Zm0 220h160v-160H400v160ZM180-400h160v-160H180v160Zm440 0h160v-160H620v160ZM180-180h160v-160H180v160Zm440 0h160v-160H620v160Z\"/>\n",
              "  </svg>\n",
              "    </button>\n",
              "\n",
              "  <style>\n",
              "    .colab-df-container {\n",
              "      display:flex;\n",
              "      gap: 12px;\n",
              "    }\n",
              "\n",
              "    .colab-df-convert {\n",
              "      background-color: #E8F0FE;\n",
              "      border: none;\n",
              "      border-radius: 50%;\n",
              "      cursor: pointer;\n",
              "      display: none;\n",
              "      fill: #1967D2;\n",
              "      height: 32px;\n",
              "      padding: 0 0 0 0;\n",
              "      width: 32px;\n",
              "    }\n",
              "\n",
              "    .colab-df-convert:hover {\n",
              "      background-color: #E2EBFA;\n",
              "      box-shadow: 0px 1px 2px rgba(60, 64, 67, 0.3), 0px 1px 3px 1px rgba(60, 64, 67, 0.15);\n",
              "      fill: #174EA6;\n",
              "    }\n",
              "\n",
              "    .colab-df-buttons div {\n",
              "      margin-bottom: 4px;\n",
              "    }\n",
              "\n",
              "    [theme=dark] .colab-df-convert {\n",
              "      background-color: #3B4455;\n",
              "      fill: #D2E3FC;\n",
              "    }\n",
              "\n",
              "    [theme=dark] .colab-df-convert:hover {\n",
              "      background-color: #434B5C;\n",
              "      box-shadow: 0px 1px 3px 1px rgba(0, 0, 0, 0.15);\n",
              "      filter: drop-shadow(0px 1px 2px rgba(0, 0, 0, 0.3));\n",
              "      fill: #FFFFFF;\n",
              "    }\n",
              "  </style>\n",
              "\n",
              "    <script>\n",
              "      const buttonEl =\n",
              "        document.querySelector('#df-0b6aa2a2-f901-407a-91cc-e557b647003e button.colab-df-convert');\n",
              "      buttonEl.style.display =\n",
              "        google.colab.kernel.accessAllowed ? 'block' : 'none';\n",
              "\n",
              "      async function convertToInteractive(key) {\n",
              "        const element = document.querySelector('#df-0b6aa2a2-f901-407a-91cc-e557b647003e');\n",
              "        const dataTable =\n",
              "          await google.colab.kernel.invokeFunction('convertToInteractive',\n",
              "                                                    [key], {});\n",
              "        if (!dataTable) return;\n",
              "\n",
              "        const docLinkHtml = 'Like what you see? Visit the ' +\n",
              "          '<a target=\"_blank\" href=https://colab.research.google.com/notebooks/data_table.ipynb>data table notebook</a>'\n",
              "          + ' to learn more about interactive tables.';\n",
              "        element.innerHTML = '';\n",
              "        dataTable['output_type'] = 'display_data';\n",
              "        await google.colab.output.renderOutput(dataTable, element);\n",
              "        const docLink = document.createElement('div');\n",
              "        docLink.innerHTML = docLinkHtml;\n",
              "        element.appendChild(docLink);\n",
              "      }\n",
              "    </script>\n",
              "  </div>\n",
              "\n",
              "\n",
              "    <div id=\"df-31d69137-9ab8-48bf-b096-1bdf0344ade4\">\n",
              "      <button class=\"colab-df-quickchart\" onclick=\"quickchart('df-31d69137-9ab8-48bf-b096-1bdf0344ade4')\"\n",
              "                title=\"Suggest charts\"\n",
              "                style=\"display:none;\">\n",
              "\n",
              "<svg xmlns=\"http://www.w3.org/2000/svg\" height=\"24px\"viewBox=\"0 0 24 24\"\n",
              "     width=\"24px\">\n",
              "    <g>\n",
              "        <path d=\"M19 3H5c-1.1 0-2 .9-2 2v14c0 1.1.9 2 2 2h14c1.1 0 2-.9 2-2V5c0-1.1-.9-2-2-2zM9 17H7v-7h2v7zm4 0h-2V7h2v10zm4 0h-2v-4h2v4z\"/>\n",
              "    </g>\n",
              "</svg>\n",
              "      </button>\n",
              "\n",
              "<style>\n",
              "  .colab-df-quickchart {\n",
              "      --bg-color: #E8F0FE;\n",
              "      --fill-color: #1967D2;\n",
              "      --hover-bg-color: #E2EBFA;\n",
              "      --hover-fill-color: #174EA6;\n",
              "      --disabled-fill-color: #AAA;\n",
              "      --disabled-bg-color: #DDD;\n",
              "  }\n",
              "\n",
              "  [theme=dark] .colab-df-quickchart {\n",
              "      --bg-color: #3B4455;\n",
              "      --fill-color: #D2E3FC;\n",
              "      --hover-bg-color: #434B5C;\n",
              "      --hover-fill-color: #FFFFFF;\n",
              "      --disabled-bg-color: #3B4455;\n",
              "      --disabled-fill-color: #666;\n",
              "  }\n",
              "\n",
              "  .colab-df-quickchart {\n",
              "    background-color: var(--bg-color);\n",
              "    border: none;\n",
              "    border-radius: 50%;\n",
              "    cursor: pointer;\n",
              "    display: none;\n",
              "    fill: var(--fill-color);\n",
              "    height: 32px;\n",
              "    padding: 0;\n",
              "    width: 32px;\n",
              "  }\n",
              "\n",
              "  .colab-df-quickchart:hover {\n",
              "    background-color: var(--hover-bg-color);\n",
              "    box-shadow: 0 1px 2px rgba(60, 64, 67, 0.3), 0 1px 3px 1px rgba(60, 64, 67, 0.15);\n",
              "    fill: var(--button-hover-fill-color);\n",
              "  }\n",
              "\n",
              "  .colab-df-quickchart-complete:disabled,\n",
              "  .colab-df-quickchart-complete:disabled:hover {\n",
              "    background-color: var(--disabled-bg-color);\n",
              "    fill: var(--disabled-fill-color);\n",
              "    box-shadow: none;\n",
              "  }\n",
              "\n",
              "  .colab-df-spinner {\n",
              "    border: 2px solid var(--fill-color);\n",
              "    border-color: transparent;\n",
              "    border-bottom-color: var(--fill-color);\n",
              "    animation:\n",
              "      spin 1s steps(1) infinite;\n",
              "  }\n",
              "\n",
              "  @keyframes spin {\n",
              "    0% {\n",
              "      border-color: transparent;\n",
              "      border-bottom-color: var(--fill-color);\n",
              "      border-left-color: var(--fill-color);\n",
              "    }\n",
              "    20% {\n",
              "      border-color: transparent;\n",
              "      border-left-color: var(--fill-color);\n",
              "      border-top-color: var(--fill-color);\n",
              "    }\n",
              "    30% {\n",
              "      border-color: transparent;\n",
              "      border-left-color: var(--fill-color);\n",
              "      border-top-color: var(--fill-color);\n",
              "      border-right-color: var(--fill-color);\n",
              "    }\n",
              "    40% {\n",
              "      border-color: transparent;\n",
              "      border-right-color: var(--fill-color);\n",
              "      border-top-color: var(--fill-color);\n",
              "    }\n",
              "    60% {\n",
              "      border-color: transparent;\n",
              "      border-right-color: var(--fill-color);\n",
              "    }\n",
              "    80% {\n",
              "      border-color: transparent;\n",
              "      border-right-color: var(--fill-color);\n",
              "      border-bottom-color: var(--fill-color);\n",
              "    }\n",
              "    90% {\n",
              "      border-color: transparent;\n",
              "      border-bottom-color: var(--fill-color);\n",
              "    }\n",
              "  }\n",
              "</style>\n",
              "\n",
              "      <script>\n",
              "        async function quickchart(key) {\n",
              "          const quickchartButtonEl =\n",
              "            document.querySelector('#' + key + ' button');\n",
              "          quickchartButtonEl.disabled = true;  // To prevent multiple clicks.\n",
              "          quickchartButtonEl.classList.add('colab-df-spinner');\n",
              "          try {\n",
              "            const charts = await google.colab.kernel.invokeFunction(\n",
              "                'suggestCharts', [key], {});\n",
              "          } catch (error) {\n",
              "            console.error('Error during call to suggestCharts:', error);\n",
              "          }\n",
              "          quickchartButtonEl.classList.remove('colab-df-spinner');\n",
              "          quickchartButtonEl.classList.add('colab-df-quickchart-complete');\n",
              "        }\n",
              "        (() => {\n",
              "          let quickchartButtonEl =\n",
              "            document.querySelector('#df-31d69137-9ab8-48bf-b096-1bdf0344ade4 button');\n",
              "          quickchartButtonEl.style.display =\n",
              "            google.colab.kernel.accessAllowed ? 'block' : 'none';\n",
              "        })();\n",
              "      </script>\n",
              "    </div>\n",
              "\n",
              "    </div>\n",
              "  </div>\n"
            ],
            "application/vnd.google.colaboratory.intrinsic+json": {
              "type": "dataframe",
              "variable_name": "X",
              "summary": "{\n  \"name\": \"X\",\n  \"rows\": 32,\n  \"fields\": [\n    {\n      \"column\": \"mpg\",\n      \"properties\": {\n        \"dtype\": \"number\",\n        \"std\": 6.026948052089105,\n        \"min\": 10.4,\n        \"max\": 33.9,\n        \"num_unique_values\": 25,\n        \"samples\": [\n          17.8,\n          33.9,\n          21.0\n        ],\n        \"semantic_type\": \"\",\n        \"description\": \"\"\n      }\n    },\n    {\n      \"column\": \"mpg^2\",\n      \"properties\": {\n        \"dtype\": \"number\",\n        \"std\": 268.3961819681131,\n        \"min\": 108.16000000000001,\n        \"max\": 1149.2099999999998,\n        \"num_unique_values\": 25,\n        \"samples\": [\n          316.84000000000003,\n          1149.2099999999998,\n          441.0\n        ],\n        \"semantic_type\": \"\",\n        \"description\": \"\"\n      }\n    }\n  ]\n}"
            }
          },
          "metadata": {},
          "execution_count": 11
        }
      ],
      "source": [
        "# check X again\n",
        "X.head(2)"
      ]
    },
    {
      "cell_type": "code",
      "execution_count": 12,
      "metadata": {
        "colab": {
          "base_uri": "https://localhost:8080/"
        },
        "id": "ksGDx2ejpk-k",
        "outputId": "2b387815-a95d-4c8d-c086-27f2eaecf384"
      },
      "outputs": [
        {
          "output_type": "execute_result",
          "data": {
            "text/plain": [
              "array([-23.34451763,   0.33002884])"
            ]
          },
          "metadata": {},
          "execution_count": 12
        }
      ],
      "source": [
        "#fit model and look at coefficients\n",
        "model1 = LinearRegression().fit(X, y)\n",
        "model1.coef_"
      ]
    },
    {
      "cell_type": "code",
      "execution_count": 13,
      "metadata": {
        "colab": {
          "base_uri": "https://localhost:8080/"
        },
        "id": "6vPUs7DRpk-k",
        "outputId": "181d4cae-3519-4f29-904f-ef756d8eaa53"
      },
      "outputs": [
        {
          "output_type": "execute_result",
          "data": {
            "text/plain": [
              "np.float64(470.86947158376057)"
            ]
          },
          "metadata": {},
          "execution_count": 13
        }
      ],
      "source": [
        "# intercept\n",
        "model1.intercept_"
      ]
    },
    {
      "cell_type": "code",
      "execution_count": 14,
      "metadata": {
        "colab": {
          "base_uri": "https://localhost:8080/",
          "height": 448
        },
        "id": "0RpB59nvpk-k",
        "outputId": "c1a562c1-8031-45e6-d2cc-18a6faf23c1e"
      },
      "outputs": [
        {
          "output_type": "execute_result",
          "data": {
            "text/plain": [
              "<matplotlib.collections.PathCollection at 0x79dec25b3470>"
            ]
          },
          "metadata": {},
          "execution_count": 14
        },
        {
          "output_type": "display_data",
          "data": {
            "text/plain": [
              "<Figure size 640x480 with 1 Axes>"
            ],
            "image/png": "[encoded data removed]"
          },
          "metadata": {}
        }
      ],
      "source": [
        "plt.scatter(X['mpg'], y)\n",
        "plt.scatter(X['mpg'], model1.predict(X))"
      ]
    },
    {
      "cell_type": "code",
      "execution_count": 15,
      "metadata": {
        "colab": {
          "base_uri": "https://localhost:8080/"
        },
        "id": "D2KJIfQ8pk-k",
        "outputId": "ab91bb2e-5865-44e5-95c2-b38ea4a1da8e"
      },
      "outputs": [
        {
          "output_type": "execute_result",
          "data": {
            "text/plain": [
              "1623.1102840474189"
            ]
          },
          "metadata": {},
          "execution_count": 15
        }
      ],
      "source": [
        "# mean squared error?\n",
        "mean_squared_error(y, model1.predict(X))"
      ]
    },
    {
      "cell_type": "markdown",
      "metadata": {
        "id": "jLtEZOEJpk-l"
      },
      "source": [
        "**QUESTION**: Which is better -- the first or second degree model?"
      ]
    },
    {
      "cell_type": "markdown",
      "metadata": {
        "id": "9LjQTqB_pk-l"
      },
      "source": [
        "### Problem\n",
        "\n",
        "1. Add a cubic term to the data.  \n",
        "2. Fit a new model to the cubic data.\n",
        "3. Determine the `mean_squared_error` of the linear, quadratic, and cubic models.  How do they compare?\n",
        "4. Would a quartic polynomial (4th degree) be better or worse in terms of `mean_squared_error`?\n"
      ]
    },
    {
      "cell_type": "code",
      "execution_count": 15,
      "metadata": {
        "id": "oy1Qjgv-pk-l"
      },
      "outputs": [],
      "source": []
    },
    {
      "cell_type": "code",
      "execution_count": 15,
      "metadata": {
        "id": "JTO693Ivpk-l"
      },
      "outputs": [],
      "source": []
    },
    {
      "cell_type": "code",
      "execution_count": 15,
      "metadata": {
        "id": "SAT8l18dpk-l"
      },
      "outputs": [],
      "source": []
    },
    {
      "cell_type": "code",
      "execution_count": 15,
      "metadata": {
        "id": "eNpNT0p9pk-l"
      },
      "outputs": [],
      "source": []
    },
    {
      "cell_type": "code",
      "execution_count": 15,
      "metadata": {
        "id": "lvZZ6McXpk-l"
      },
      "outputs": [],
      "source": []
    },
    {
      "cell_type": "code",
      "execution_count": 15,
      "metadata": {
        "id": "9KeoNzqipk-l"
      },
      "outputs": [],
      "source": []
    },
    {
      "cell_type": "markdown",
      "metadata": {
        "id": "e2tQh8Zdpk-l"
      },
      "source": [
        "### Experimenting with complexity\n",
        "\n",
        "Below, a synthetic dataset is created and different complexity regression models can be controlled using the slider.  Which degree complexity seems best?  Consider the new data after you determine the ideal model."
      ]
    },
    {
      "cell_type": "code",
      "execution_count": 16,
      "metadata": {
        "id": "7N2rrzr_pk-m"
      },
      "outputs": [],
      "source": [
        "from ipywidgets import interact\n",
        "import ipywidgets as widgets"
      ]
    },
    {
      "cell_type": "code",
      "execution_count": 17,
      "metadata": {
        "id": "kipqbpxjpk-m"
      },
      "outputs": [],
      "source": [
        "x = np.linspace(0, 12, 30)\n",
        "y = 3*x + 15 + 4*np.sin(x) + np.random.normal(scale = 3.0, size = len(x))"
      ]
    },
    {
      "cell_type": "code",
      "execution_count": 18,
      "metadata": {
        "id": "E7p2f8Fapk-m"
      },
      "outputs": [],
      "source": [
        "# Don't Peek!\n",
        "# x = np.random.choice(x, 50, replace = False)\n",
        "def model_maker(n, newdata = False):\n",
        "    coefs = np.polyfit(x, y, n)\n",
        "    preds = np.polyval(coefs, x)\n",
        "    x_,y_,p_ = zip(*sorted(zip(x, y, preds)))\n",
        "    plt.scatter(x_, y_, label = 'Known Data')\n",
        "    plt.xlim(0, 6)\n",
        "    if newdata:\n",
        "        np.random.seed(42)\n",
        "        x2 = np.random.choice(np.linspace(0, 12, 1000), 35)\n",
        "        y2 = 3*x2 + 15 + 4*np.sin(x2) + np.random.normal(scale = 3.0, size = len(x2))\n",
        "        plt.scatter(x2, y2, label = 'New Data')\n",
        "    plt.plot(x_, p_, color = 'red')\n",
        "    plt.title(f'Degree {n}')\n",
        "    plt.legend();"
      ]
    },
    {
      "cell_type": "code",
      "execution_count": 19,
      "metadata": {
        "colab": {
          "base_uri": "https://localhost:8080/",
          "height": 516,
          "referenced_widgets": [
            "9dced6d325124c0880e8b0ccca03e0c1",
            "8ee50721c738448d8dafe31b216e4c1c",
            "9bbff44906d04b6f85a602385a6261b9",
            "e242d62ce5174767a19759c833455be1",
            "6d8c7f7335574afabfe404eaaa0404f8",
            "4715906f52924b95995f9ef9e2398561",
            "af75dfcda3b4422291a4b44eda340a2b",
            "8b8a82359b6f4898836382ba925ee385",
            "c64cdf6de99243ed9cddc100140a3dec",
            "5136c1c62d5f4bfb9aa94547d925d3f6"
          ]
        },
        "id": "VxSTmDCgpk-m",
        "outputId": "2db0290e-2147-41e9-ecdb-2fbe3ca79a68"
      },
      "outputs": [
        {
          "output_type": "display_data",
          "data": {
            "text/plain": [
              "interactive(children=(IntSlider(value=1, description='n', max=30, min=1), Checkbox(value=False, description='n…"
            ],
            "application/vnd.jupyter.widget-view+json": {
              "version_major": 2,
              "version_minor": 0,
              "model_id": "9dced6d325124c0880e8b0ccca03e0c1"
            }
          },
          "metadata": {}
        }
      ],
      "source": [
        "interact(model_maker, n = widgets.IntSlider(start = 1, min = 1, max = len(y), step = 1));"
      ]
    },
    {
      "cell_type": "code",
      "execution_count": 20,
      "metadata": {
        "id": "IdjLLMMLpk-m"
      },
      "outputs": [],
      "source": [
        "#CHOOSE OPTIMAL COMPLEXITY"
      ]
    },
    {
      "cell_type": "code",
      "execution_count": 20,
      "metadata": {
        "id": "E-LwMftNpk-m"
      },
      "outputs": [],
      "source": []
    },
    {
      "cell_type": "code",
      "execution_count": 20,
      "metadata": {
        "id": "a6sqImHFpk-n"
      },
      "outputs": [],
      "source": []
    },
    {
      "cell_type": "markdown",
      "metadata": {
        "id": "E-R60bCtpk-n"
      },
      "source": [
        "`PolynomialFeatures`\n",
        "\n",
        "Scikitlearn has a transformer that will do the work of adding polynomial terms on to our dataset.  For more information see the documentation [here](https://scikit-learn.org/stable/modules/preprocessing.html#polynomial-features)."
      ]
    },
    {
      "cell_type": "code",
      "execution_count": 21,
      "metadata": {
        "id": "vHhnI138pk-n"
      },
      "outputs": [],
      "source": [
        "from sklearn.preprocessing import PolynomialFeatures"
      ]
    },
    {
      "cell_type": "code",
      "execution_count": 22,
      "metadata": {
        "colab": {
          "base_uri": "https://localhost:8080/"
        },
        "id": "XfvZMJGwpk-n",
        "outputId": "9be3e164-ec51-4242-cda2-87f326f021c5"
      },
      "outputs": [
        {
          "output_type": "execute_result",
          "data": {
            "text/plain": [
              "array([[-0.65596554,  2.13564662],\n",
              "       [ 0.78195096, -0.02313862],\n",
              "       [ 0.09593857,  0.20436659]])"
            ]
          },
          "metadata": {},
          "execution_count": 22
        }
      ],
      "source": [
        "#create a little dataset (3, 2)\n",
        "toy_x = np.random.normal(size = (3, 2))\n",
        "toy_x"
      ]
    },
    {
      "cell_type": "code",
      "execution_count": 23,
      "metadata": {
        "colab": {
          "base_uri": "https://localhost:8080/"
        },
        "id": "0IQr2VBCpk-n",
        "outputId": "584f46dc-07ab-401f-9425-018ece3c9f7a"
      },
      "outputs": [
        {
          "output_type": "execute_result",
          "data": {
            "text/plain": [
              "array([[-0.66,  2.14,  0.43, -1.4 ,  4.56],\n",
              "       [ 0.78, -0.02,  0.61, -0.02,  0.  ],\n",
              "       [ 0.1 ,  0.2 ,  0.01,  0.02,  0.04]])"
            ]
          },
          "metadata": {},
          "execution_count": 23
        }
      ],
      "source": [
        "#instantiate and transform\n",
        "poly_feats = PolynomialFeatures(include_bias = False)\n",
        "np.set_printoptions(precision=2, suppress=True)\n",
        "poly_feats.fit_transform(toy_x)"
      ]
    },
    {
      "cell_type": "code",
      "execution_count": 24,
      "metadata": {
        "colab": {
          "base_uri": "https://localhost:8080/"
        },
        "id": "HKcu5WIBpk-n",
        "outputId": "c546021b-a475-4047-8ee4-32c4184dbf8d"
      },
      "outputs": [
        {
          "output_type": "execute_result",
          "data": {
            "text/plain": [
              "array(['x0', 'x1', 'x0^2', 'x0 x1', 'x1^2'], dtype=object)"
            ]
          },
          "metadata": {},
          "execution_count": 24
        }
      ],
      "source": [
        "#look at the feature names\n",
        "poly_feats.get_feature_names_out()"
      ]
    },
    {
      "cell_type": "code",
      "execution_count": 25,
      "metadata": {
        "colab": {
          "base_uri": "https://localhost:8080/",
          "height": 143
        },
        "id": "DEDJAdQvpk-n",
        "outputId": "6bf0ead4-2d44-4b48-f110-5abd24dfdaa8"
      },
      "outputs": [
        {
          "output_type": "execute_result",
          "data": {
            "text/plain": [
              "         x0        x1      x0^2     x0 x1      x1^2\n",
              "0 -0.655966  2.135647  0.430291 -1.400911  4.560986\n",
              "1  0.781951 -0.023139  0.611447 -0.018093  0.000535\n",
              "2  0.095939  0.204367  0.009204  0.019607  0.041766"
            ],
            "text/html": [
              "\n",
              "  <div id=\"df-eb704e6a-9700-45c6-a216-8d4943c63efd\" class=\"colab-df-container\">\n",
              "    <div>\n",
              "<style scoped>\n",
              "    .dataframe tbody tr th:only-of-type {\n",
              "        vertical-align: middle;\n",
              "    }\n",
              "\n",
              "    .dataframe tbody tr th {\n",
              "        vertical-align: top;\n",
              "    }\n",
              "\n",
              "    .dataframe thead th {\n",
              "        text-align: right;\n",
              "    }\n",
              "</style>\n",
              "<table border=\"1\" class=\"dataframe\">\n",
              "  <thead>\n",
              "    <tr style=\"text-align: right;\">\n",
              "      <th></th>\n",
              "      <th>x0</th>\n",
              "      <th>x1</th>\n",
              "      <th>x0^2</th>\n",
              "      <th>x0 x1</th>\n",
              "      <th>x1^2</th>\n",
              "    </tr>\n",
              "  </thead>\n",
              "  <tbody>\n",
              "    <tr>\n",
              "      <th>0</th>\n",
              "      <td>-0.655966</td>\n",
              "      <td>2.135647</td>\n",
              "      <td>0.430291</td>\n",
              "      <td>-1.400911</td>\n",
              "      <td>4.560986</td>\n",
              "    </tr>\n",
              "    <tr>\n",
              "      <th>1</th>\n",
              "      <td>0.781951</td>\n",
              "      <td>-0.023139</td>\n",
              "      <td>0.611447</td>\n",
              "      <td>-0.018093</td>\n",
              "      <td>0.000535</td>\n",
              "    </tr>\n",
              "    <tr>\n",
              "      <th>2</th>\n",
              "      <td>0.095939</td>\n",
              "      <td>0.204367</td>\n",
              "      <td>0.009204</td>\n",
              "      <td>0.019607</td>\n",
              "      <td>0.041766</td>\n",
              "    </tr>\n",
              "  </tbody>\n",
              "</table>\n",
              "</div>\n",
              "    <div class=\"colab-df-buttons\">\n",
              "\n",
              "  <div class=\"colab-df-container\">\n",
              "    <button class=\"colab-df-convert\" onclick=\"convertToInteractive('df-eb704e6a-9700-45c6-a216-8d4943c63efd')\"\n",
              "            title=\"Convert this dataframe to an interactive table.\"\n",
              "            style=\"display:none;\">\n",
              "\n",
              "  <svg xmlns=\"http://www.w3.org/2000/svg\" height=\"24px\" viewBox=\"0 -960 960 960\">\n",
              "    <path d=\"M120-120v-720h720v720H120Zm60-500h600v-160H180v160Zm220 220h160v-160H400v160Zm0 220h160v-160H400v160ZM180-400h160v-160H180v160Zm440 0h160v-160H620v160ZM180-180h160v-160H180v160Zm440 0h160v-160H620v160Z\"/>\n",
              "  </svg>\n",
              "    </button>\n",
              "\n",
              "  <style>\n",
              "    .colab-df-container {\n",
              "      display:flex;\n",
              "      gap: 12px;\n",
              "    }\n",
              "\n",
              "    .colab-df-convert {\n",
              "      background-color: #E8F0FE;\n",
              "      border: none;\n",
              "      border-radius: 50%;\n",
              "      cursor: pointer;\n",
              "      display: none;\n",
              "      fill: #1967D2;\n",
              "      height: 32px;\n",
              "      padding: 0 0 0 0;\n",
              "      width: 32px;\n",
              "    }\n",
              "\n",
              "    .colab-df-convert:hover {\n",
              "      background-color: #E2EBFA;\n",
              "      box-shadow: 0px 1px 2px rgba(60, 64, 67, 0.3), 0px 1px 3px 1px rgba(60, 64, 67, 0.15);\n",
              "      fill: #174EA6;\n",
              "    }\n",
              "\n",
              "    .colab-df-buttons div {\n",
              "      margin-bottom: 4px;\n",
              "    }\n",
              "\n",
              "    [theme=dark] .colab-df-convert {\n",
              "      background-color: #3B4455;\n",
              "      fill: #D2E3FC;\n",
              "    }\n",
              "\n",
              "    [theme=dark] .colab-df-convert:hover {\n",
              "      background-color: #434B5C;\n",
              "      box-shadow: 0px 1px 3px 1px rgba(0, 0, 0, 0.15);\n",
              "      filter: drop-shadow(0px 1px 2px rgba(0, 0, 0, 0.3));\n",
              "      fill: #FFFFFF;\n",
              "    }\n",
              "  </style>\n",
              "\n",
              "    <script>\n",
              "      const buttonEl =\n",
              "        document.querySelector('#df-eb704e6a-9700-45c6-a216-8d4943c63efd button.colab-df-convert');\n",
              "      buttonEl.style.display =\n",
              "        google.colab.kernel.accessAllowed ? 'block' : 'none';\n",
              "\n",
              "      async function convertToInteractive(key) {\n",
              "        const element = document.querySelector('#df-eb704e6a-9700-45c6-a216-8d4943c63efd');\n",
              "        const dataTable =\n",
              "          await google.colab.kernel.invokeFunction('convertToInteractive',\n",
              "                                                    [key], {});\n",
              "        if (!dataTable) return;\n",
              "\n",
              "        const docLinkHtml = 'Like what you see? Visit the ' +\n",
              "          '<a target=\"_blank\" href=https://colab.research.google.com/notebooks/data_table.ipynb>data table notebook</a>'\n",
              "          + ' to learn more about interactive tables.';\n",
              "        element.innerHTML = '';\n",
              "        dataTable['output_type'] = 'display_data';\n",
              "        await google.colab.output.renderOutput(dataTable, element);\n",
              "        const docLink = document.createElement('div');\n",
              "        docLink.innerHTML = docLinkHtml;\n",
              "        element.appendChild(docLink);\n",
              "      }\n",
              "    </script>\n",
              "  </div>\n",
              "\n",
              "\n",
              "    <div id=\"df-a2b28373-0cd1-4c52-8d79-73a79f2bafd6\">\n",
              "      <button class=\"colab-df-quickchart\" onclick=\"quickchart('df-a2b28373-0cd1-4c52-8d79-73a79f2bafd6')\"\n",
              "                title=\"Suggest charts\"\n",
              "                style=\"display:none;\">\n",
              "\n",
              "<svg xmlns=\"http://www.w3.org/2000/svg\" height=\"24px\"viewBox=\"0 0 24 24\"\n",
              "     width=\"24px\">\n",
              "    <g>\n",
              "        <path d=\"M19 3H5c-1.1 0-2 .9-2 2v14c0 1.1.9 2 2 2h14c1.1 0 2-.9 2-2V5c0-1.1-.9-2-2-2zM9 17H7v-7h2v7zm4 0h-2V7h2v10zm4 0h-2v-4h2v4z\"/>\n",
              "    </g>\n",
              "</svg>\n",
              "      </button>\n",
              "\n",
              "<style>\n",
              "  .colab-df-quickchart {\n",
              "      --bg-color: #E8F0FE;\n",
              "      --fill-color: #1967D2;\n",
              "      --hover-bg-color: #E2EBFA;\n",
              "      --hover-fill-color: #174EA6;\n",
              "      --disabled-fill-color: #AAA;\n",
              "      --disabled-bg-color: #DDD;\n",
              "  }\n",
              "\n",
              "  [theme=dark] .colab-df-quickchart {\n",
              "      --bg-color: #3B4455;\n",
              "      --fill-color: #D2E3FC;\n",
              "      --hover-bg-color: #434B5C;\n",
              "      --hover-fill-color: #FFFFFF;\n",
              "      --disabled-bg-color: #3B4455;\n",
              "      --disabled-fill-color: #666;\n",
              "  }\n",
              "\n",
              "  .colab-df-quickchart {\n",
              "    background-color: var(--bg-color);\n",
              "    border: none;\n",
              "    border-radius: 50%;\n",
              "    cursor: pointer;\n",
              "    display: none;\n",
              "    fill: var(--fill-color);\n",
              "    height: 32px;\n",
              "    padding: 0;\n",
              "    width: 32px;\n",
              "  }\n",
              "\n",
              "  .colab-df-quickchart:hover {\n",
              "    background-color: var(--hover-bg-color);\n",
              "    box-shadow: 0 1px 2px rgba(60, 64, 67, 0.3), 0 1px 3px 1px rgba(60, 64, 67, 0.15);\n",
              "    fill: var(--button-hover-fill-color);\n",
              "  }\n",
              "\n",
              "  .colab-df-quickchart-complete:disabled,\n",
              "  .colab-df-quickchart-complete:disabled:hover {\n",
              "    background-color: var(--disabled-bg-color);\n",
              "    fill: var(--disabled-fill-color);\n",
              "    box-shadow: none;\n",
              "  }\n",
              "\n",
              "  .colab-df-spinner {\n",
              "    border: 2px solid var(--fill-color);\n",
              "    border-color: transparent;\n",
              "    border-bottom-color: var(--fill-color);\n",
              "    animation:\n",
              "      spin 1s steps(1) infinite;\n",
              "  }\n",
              "\n",
              "  @keyframes spin {\n",
              "    0% {\n",
              "      border-color: transparent;\n",
              "      border-bottom-color: var(--fill-color);\n",
              "      border-left-color: var(--fill-color);\n",
              "    }\n",
              "    20% {\n",
              "      border-color: transparent;\n",
              "      border-left-color: var(--fill-color);\n",
              "      border-top-color: var(--fill-color);\n",
              "    }\n",
              "    30% {\n",
              "      border-color: transparent;\n",
              "      border-left-color: var(--fill-color);\n",
              "      border-top-color: var(--fill-color);\n",
              "      border-right-color: var(--fill-color);\n",
              "    }\n",
              "    40% {\n",
              "      border-color: transparent;\n",
              "      border-right-color: var(--fill-color);\n",
              "      border-top-color: var(--fill-color);\n",
              "    }\n",
              "    60% {\n",
              "      border-color: transparent;\n",
              "      border-right-color: var(--fill-color);\n",
              "    }\n",
              "    80% {\n",
              "      border-color: transparent;\n",
              "      border-right-color: var(--fill-color);\n",
              "      border-bottom-color: var(--fill-color);\n",
              "    }\n",
              "    90% {\n",
              "      border-color: transparent;\n",
              "      border-bottom-color: var(--fill-color);\n",
              "    }\n",
              "  }\n",
              "</style>\n",
              "\n",
              "      <script>\n",
              "        async function quickchart(key) {\n",
              "          const quickchartButtonEl =\n",
              "            document.querySelector('#' + key + ' button');\n",
              "          quickchartButtonEl.disabled = true;  // To prevent multiple clicks.\n",
              "          quickchartButtonEl.classList.add('colab-df-spinner');\n",
              "          try {\n",
              "            const charts = await google.colab.kernel.invokeFunction(\n",
              "                'suggestCharts', [key], {});\n",
              "          } catch (error) {\n",
              "            console.error('Error during call to suggestCharts:', error);\n",
              "          }\n",
              "          quickchartButtonEl.classList.remove('colab-df-spinner');\n",
              "          quickchartButtonEl.classList.add('colab-df-quickchart-complete');\n",
              "        }\n",
              "        (() => {\n",
              "          let quickchartButtonEl =\n",
              "            document.querySelector('#df-a2b28373-0cd1-4c52-8d79-73a79f2bafd6 button');\n",
              "          quickchartButtonEl.style.display =\n",
              "            google.colab.kernel.accessAllowed ? 'block' : 'none';\n",
              "        })();\n",
              "      </script>\n",
              "    </div>\n",
              "\n",
              "    </div>\n",
              "  </div>\n"
            ],
            "application/vnd.google.colaboratory.intrinsic+json": {
              "type": "dataframe",
              "summary": "{\n  \"name\": \"pd\",\n  \"rows\": 3,\n  \"fields\": [\n    {\n      \"column\": \"x0\",\n      \"properties\": {\n        \"dtype\": \"number\",\n        \"std\": 0.7192098240603223,\n        \"min\": -0.6559655386165357,\n        \"max\": 0.781950955571658,\n        \"num_unique_values\": 3,\n        \"samples\": [\n          -0.6559655386165357,\n          0.781950955571658,\n          0.09593857135577159\n        ],\n        \"semantic_type\": \"\",\n        \"description\": \"\"\n      }\n    },\n    {\n      \"column\": \"x1\",\n      \"properties\": {\n        \"dtype\": \"number\",\n        \"std\": 1.1861671409173842,\n        \"min\": -0.02313861733788245,\n        \"max\": 2.135646623287246,\n        \"num_unique_values\": 3,\n        \"samples\": [\n          2.135646623287246,\n          -0.02313861733788245,\n          0.20436658540080202\n        ],\n        \"semantic_type\": \"\",\n        \"description\": \"\"\n      }\n    },\n    {\n      \"column\": \"x0^2\",\n      \"properties\": {\n        \"dtype\": \"number\",\n        \"std\": 0.30898444503568456,\n        \"min\": 0.009204209473786478,\n        \"max\": 0.611447296919429,\n        \"num_unique_values\": 3,\n        \"samples\": [\n          0.4302907878524818,\n          0.611447296919429,\n          0.009204209473786478\n        ],\n        \"semantic_type\": \"\",\n        \"description\": \"\"\n      }\n    },\n    {\n      \"column\": \"x0 x1\",\n      \"properties\": {\n        \"dtype\": \"number\",\n        \"std\": 0.8094724847907966,\n        \"min\": -1.4009105875392043,\n        \"max\": 0.019606638236210235,\n        \"num_unique_values\": 3,\n        \"samples\": [\n          -1.4009105875392043,\n          -0.018093263937964114,\n          0.019606638236210235\n        ],\n        \"semantic_type\": \"\",\n        \"description\": \"\"\n      }\n    },\n    {\n      \"column\": \"x1^2\",\n      \"properties\": {\n        \"dtype\": \"number\",\n        \"std\": 2.6211565778500523,\n        \"min\": 0.0005353956123089543,\n        \"max\": 4.560986499558217,\n        \"num_unique_values\": 3,\n        \"samples\": [\n          4.560986499558217,\n          0.0005353956123089543,\n          0.04176570122838331\n        ],\n        \"semantic_type\": \"\",\n        \"description\": \"\"\n      }\n    }\n  ]\n}"
            }
          },
          "metadata": {},
          "execution_count": 25
        }
      ],
      "source": [
        "#create a dataframe from results\n",
        "pd.DataFrame(poly_feats.fit_transform(toy_x), columns = poly_feats.get_feature_names_out())"
      ]
    },
    {
      "cell_type": "markdown",
      "metadata": {
        "id": "HSt5TCgXpk-o"
      },
      "source": [
        "Now, let's use `PolynomialFeatures` to solve the earlier problem predicting `hp` using `mpg`."
      ]
    },
    {
      "cell_type": "code",
      "execution_count": 26,
      "metadata": {
        "id": "YtBLNENspk-o"
      },
      "outputs": [],
      "source": [
        "#instantiate polynomial features\n",
        "pfeats = PolynomialFeatures(include_bias=False)"
      ]
    },
    {
      "cell_type": "code",
      "execution_count": 27,
      "metadata": {
        "id": "9KZEQDVbpk-o"
      },
      "outputs": [],
      "source": [
        "#transform X\n",
        "XT = pfeats.fit_transform(X[['mpg']])"
      ]
    },
    {
      "cell_type": "code",
      "execution_count": 28,
      "metadata": {
        "id": "J9p6kuhKBPcZ",
        "outputId": "a54a5671-d707-46e4-fc7f-a348d8d4d948",
        "colab": {
          "base_uri": "https://localhost:8080/"
        }
      },
      "outputs": [
        {
          "output_type": "execute_result",
          "data": {
            "text/plain": [
              "(32, 2)"
            ]
          },
          "metadata": {},
          "execution_count": 28
        }
      ],
      "source": [
        "XT.shape"
      ]
    },
    {
      "cell_type": "code",
      "execution_count": 29,
      "metadata": {
        "colab": {
          "base_uri": "https://localhost:8080/"
        },
        "id": "VdQycBO40PCZ",
        "outputId": "dd3e73c6-08c0-4937-a641-e4095fe3ee1e"
      },
      "outputs": [
        {
          "output_type": "execute_result",
          "data": {
            "text/plain": [
              "array(['mpg', 'mpg^2'], dtype=object)"
            ]
          },
          "metadata": {},
          "execution_count": 29
        }
      ],
      "source": [
        "#examine feature names\n",
        "pfeats.get_feature_names_out()"
      ]
    },
    {
      "cell_type": "code",
      "execution_count": 30,
      "metadata": {
        "id": "Odhyv17Fpk-o"
      },
      "outputs": [],
      "source": [
        "#instantiate model\n",
        "lr5 = LinearRegression().fit(XT, cars['hp'])"
      ]
    },
    {
      "cell_type": "code",
      "execution_count": 31,
      "metadata": {
        "colab": {
          "base_uri": "https://localhost:8080/"
        },
        "id": "I-5gzSu9pk-o",
        "outputId": "2f066484-bf31-4ae8-9278-1235f6f4fb47"
      },
      "outputs": [
        {
          "output_type": "execute_result",
          "data": {
            "text/plain": [
              "1623.1102840474196"
            ]
          },
          "metadata": {},
          "execution_count": 31
        }
      ],
      "source": [
        "#fit, predict and score\n",
        "mean_squared_error(cars['hp'], lr5.predict(XT))"
      ]
    },
    {
      "cell_type": "markdown",
      "metadata": {
        "id": "ZVHLZvWypk-o"
      },
      "source": [
        "#### `train_test_split`\n",
        "\n",
        "\n",
        "\n",
        "To this point, we have evaluated our models using the data they were built with.  If our goal is to use these models for future predictions, it would be better to understand the performance on data the model has *not* seen in the past.  To mimic this notion of unseen data, we create a small holdout set of data to use in evaluation.  \n",
        "\n",
        "- **Train Data**: Data to build our model with.\n",
        "- **Test Data**: Data to evaluate the model with (usually a smaller dataset than train)"
      ]
    },
    {
      "cell_type": "markdown",
      "metadata": {
        "id": "geCbV5r3pk-o"
      },
      "source": [
        "Scikitlearn has a `train_test_split` function that will create these datasets for us.  Below we load it from the `model_selection` module and explore its functionality. [User Guide](https://scikit-learn.org/stable/modules/cross_validation.html#cross-validation)"
      ]
    },
    {
      "cell_type": "code",
      "execution_count": 32,
      "metadata": {
        "id": "K5_5XBNlpk-o"
      },
      "outputs": [],
      "source": [
        "# import function\n",
        "from sklearn.model_selection import train_test_split"
      ]
    },
    {
      "cell_type": "code",
      "execution_count": 33,
      "metadata": {
        "id": "5Rxd3V26pk-o"
      },
      "outputs": [],
      "source": [
        "# create a train and test split\n",
        "y = cars['hp']\n",
        "X_train, X_test, y_train, y_test = train_test_split(XT, y, random_state=42)"
      ]
    },
    {
      "cell_type": "code",
      "execution_count": 34,
      "metadata": {
        "colab": {
          "base_uri": "https://localhost:8080/"
        },
        "id": "_1cFS5tWpk-p",
        "outputId": "252ae9b4-2a39-4c59-d2a2-6bfeca26ad85"
      },
      "outputs": [
        {
          "output_type": "execute_result",
          "data": {
            "text/plain": [
              "(24, 2)"
            ]
          },
          "metadata": {},
          "execution_count": 34
        }
      ],
      "source": [
        "# explore train data\n",
        "X_train.shape"
      ]
    },
    {
      "cell_type": "code",
      "execution_count": 35,
      "metadata": {
        "colab": {
          "base_uri": "https://localhost:8080/"
        },
        "id": "XmfqSJ3kpk-p",
        "outputId": "2b8f744c-5077-4ced-82de-0e96bc1153c5"
      },
      "outputs": [
        {
          "output_type": "execute_result",
          "data": {
            "text/plain": [
              "(8, 2)"
            ]
          },
          "metadata": {},
          "execution_count": 35
        }
      ],
      "source": [
        "# explore test data\n",
        "X_test.shape"
      ]
    },
    {
      "cell_type": "code",
      "execution_count": 36,
      "metadata": {
        "colab": {
          "base_uri": "https://localhost:8080/",
          "height": 80
        },
        "id": "AVcCPXD8pk-p",
        "outputId": "0216b80e-592f-400d-f9aa-2bd546eed35d"
      },
      "outputs": [
        {
          "output_type": "execute_result",
          "data": {
            "text/plain": [
              "LinearRegression()"
            ],
            "text/html": [
              "<style>#sk-container-id-1 {\n",
              "  /* Definition of color scheme common for light and dark mode */\n",
              "  --sklearn-color-text: #000;\n",
              "  --sklearn-color-text-muted: #666;\n",
              "  --sklearn-color-line: gray;\n",
              "  /* Definition of color scheme for unfitted estimators */\n",
              "  --sklearn-color-unfitted-level-0: #fff5e6;\n",
              "  --sklearn-color-unfitted-level-1: #f6e4d2;\n",
              "  --sklearn-color-unfitted-level-2: #ffe0b3;\n",
              "  --sklearn-color-unfitted-level-3: chocolate;\n",
              "  /* Definition of color scheme for fitted estimators */\n",
              "  --sklearn-color-fitted-level-0: #f0f8ff;\n",
              "  --sklearn-color-fitted-level-1: #d4ebff;\n",
              "  --sklearn-color-fitted-level-2: #b3dbfd;\n",
              "  --sklearn-color-fitted-level-3: cornflowerblue;\n",
              "\n",
              "  /* Specific color for light theme */\n",
              "  --sklearn-color-text-on-default-background: var(--sg-text-color, var(--theme-code-foreground, var(--jp-content-font-color1, black)));\n",
              "  --sklearn-color-background: var(--sg-background-color, var(--theme-background, var(--jp-layout-color0, white)));\n",
              "  --sklearn-color-border-box: var(--sg-text-color, var(--theme-code-foreground, var(--jp-content-font-color1, black)));\n",
              "  --sklearn-color-icon: #696969;\n",
              "\n",
              "  @media (prefers-color-scheme: dark) {\n",
              "    /* Redefinition of color scheme for dark theme */\n",
              "    --sklearn-color-text-on-default-background: var(--sg-text-color, var(--theme-code-foreground, var(--jp-content-font-color1, white)));\n",
              "    --sklearn-color-background: var(--sg-background-color, var(--theme-background, var(--jp-layout-color0, #111)));\n",
              "    --sklearn-color-border-box: var(--sg-text-color, var(--theme-code-foreground, var(--jp-content-font-color1, white)));\n",
              "    --sklearn-color-icon: #878787;\n",
              "  }\n",
              "}\n",
              "\n",
              "#sk-container-id-1 {\n",
              "  color: var(--sklearn-color-text);\n",
              "}\n",
              "\n",
              "#sk-container-id-1 pre {\n",
              "  padding: 0;\n",
              "}\n",
              "\n",
              "#sk-container-id-1 input.sk-hidden--visually {\n",
              "  border: 0;\n",
              "  clip: rect(1px 1px 1px 1px);\n",
              "  clip: rect(1px, 1px, 1px, 1px);\n",
              "  height: 1px;\n",
              "  margin: -1px;\n",
              "  overflow: hidden;\n",
              "  padding: 0;\n",
              "  position: absolute;\n",
              "  width: 1px;\n",
              "}\n",
              "\n",
              "#sk-container-id-1 div.sk-dashed-wrapped {\n",
              "  border: 1px dashed var(--sklearn-color-line);\n",
              "  margin: 0 0.4em 0.5em 0.4em;\n",
              "  box-sizing: border-box;\n",
              "  padding-bottom: 0.4em;\n",
              "  background-color: var(--sklearn-color-background);\n",
              "}\n",
              "\n",
              "#sk-container-id-1 div.sk-container {\n",
              "  /* jupyter's `normalize.less` sets `[hidden] { display: none; }`\n",
              "     but bootstrap.min.css set `[hidden] { display: none !important; }`\n",
              "     so we also need the `!important` here to be able to override the\n",
              "     default hidden behavior on the sphinx rendered scikit-learn.org.\n",
              "     See: https://github.com/scikit-learn/scikit-learn/issues/21755 */\n",
              "  display: inline-block !important;\n",
              "  position: relative;\n",
              "}\n",
              "\n",
              "#sk-container-id-1 div.sk-text-repr-fallback {\n",
              "  display: none;\n",
              "}\n",
              "\n",
              "div.sk-parallel-item,\n",
              "div.sk-serial,\n",
              "div.sk-item {\n",
              "  /* draw centered vertical line to link estimators */\n",
              "  background-image: linear-gradient(var(--sklearn-color-text-on-default-background), var(--sklearn-color-text-on-default-background));\n",
              "  background-size: 2px 100%;\n",
              "  background-repeat: no-repeat;\n",
              "  background-position: center center;\n",
              "}\n",
              "\n",
              "/* Parallel-specific style estimator block */\n",
              "\n",
              "#sk-container-id-1 div.sk-parallel-item::after {\n",
              "  content: \"\";\n",
              "  width: 100%;\n",
              "  border-bottom: 2px solid var(--sklearn-color-text-on-default-background);\n",
              "  flex-grow: 1;\n",
              "}\n",
              "\n",
              "#sk-container-id-1 div.sk-parallel {\n",
              "  display: flex;\n",
              "  align-items: stretch;\n",
              "  justify-content: center;\n",
              "  background-color: var(--sklearn-color-background);\n",
              "  position: relative;\n",
              "}\n",
              "\n",
              "#sk-container-id-1 div.sk-parallel-item {\n",
              "  display: flex;\n",
              "  flex-direction: column;\n",
              "}\n",
              "\n",
              "#sk-container-id-1 div.sk-parallel-item:first-child::after {\n",
              "  align-self: flex-end;\n",
              "  width: 50%;\n",
              "}\n",
              "\n",
              "#sk-container-id-1 div.sk-parallel-item:last-child::after {\n",
              "  align-self: flex-start;\n",
              "  width: 50%;\n",
              "}\n",
              "\n",
              "#sk-container-id-1 div.sk-parallel-item:only-child::after {\n",
              "  width: 0;\n",
              "}\n",
              "\n",
              "/* Serial-specific style estimator block */\n",
              "\n",
              "#sk-container-id-1 div.sk-serial {\n",
              "  display: flex;\n",
              "  flex-direction: column;\n",
              "  align-items: center;\n",
              "  background-color: var(--sklearn-color-background);\n",
              "  padding-right: 1em;\n",
              "  padding-left: 1em;\n",
              "}\n",
              "\n",
              "\n",
              "/* Toggleable style: style used for estimator/Pipeline/ColumnTransformer box that is\n",
              "clickable and can be expanded/collapsed.\n",
              "- Pipeline and ColumnTransformer use this feature and define the default style\n",
              "- Estimators will overwrite some part of the style using the `sk-estimator` class\n",
              "*/\n",
              "\n",
              "/* Pipeline and ColumnTransformer style (default) */\n",
              "\n",
              "#sk-container-id-1 div.sk-toggleable {\n",
              "  /* Default theme specific background. It is overwritten whether we have a\n",
              "  specific estimator or a Pipeline/ColumnTransformer */\n",
              "  background-color: var(--sklearn-color-background);\n",
              "}\n",
              "\n",
              "/* Toggleable label */\n",
              "#sk-container-id-1 label.sk-toggleable__label {\n",
              "  cursor: pointer;\n",
              "  display: flex;\n",
              "  width: 100%;\n",
              "  margin-bottom: 0;\n",
              "  padding: 0.5em;\n",
              "  box-sizing: border-box;\n",
              "  text-align: center;\n",
              "  align-items: start;\n",
              "  justify-content: space-between;\n",
              "  gap: 0.5em;\n",
              "}\n",
              "\n",
              "#sk-container-id-1 label.sk-toggleable__label .caption {\n",
              "  font-size: 0.6rem;\n",
              "  font-weight: lighter;\n",
              "  color: var(--sklearn-color-text-muted);\n",
              "}\n",
              "\n",
              "#sk-container-id-1 label.sk-toggleable__label-arrow:before {\n",
              "  /* Arrow on the left of the label */\n",
              "  content: \"▸\";\n",
              "  float: left;\n",
              "  margin-right: 0.25em;\n",
              "  color: var(--sklearn-color-icon);\n",
              "}\n",
              "\n",
              "#sk-container-id-1 label.sk-toggleable__label-arrow:hover:before {\n",
              "  color: var(--sklearn-color-text);\n",
              "}\n",
              "\n",
              "/* Toggleable content - dropdown */\n",
              "\n",
              "#sk-container-id-1 div.sk-toggleable__content {\n",
              "  max-height: 0;\n",
              "  max-width: 0;\n",
              "  overflow: hidden;\n",
              "  text-align: left;\n",
              "  /* unfitted */\n",
              "  background-color: var(--sklearn-color-unfitted-level-0);\n",
              "}\n",
              "\n",
              "#sk-container-id-1 div.sk-toggleable__content.fitted {\n",
              "  /* fitted */\n",
              "  background-color: var(--sklearn-color-fitted-level-0);\n",
              "}\n",
              "\n",
              "#sk-container-id-1 div.sk-toggleable__content pre {\n",
              "  margin: 0.2em;\n",
              "  border-radius: 0.25em;\n",
              "  color: var(--sklearn-color-text);\n",
              "  /* unfitted */\n",
              "  background-color: var(--sklearn-color-unfitted-level-0);\n",
              "}\n",
              "\n",
              "#sk-container-id-1 div.sk-toggleable__content.fitted pre {\n",
              "  /* unfitted */\n",
              "  background-color: var(--sklearn-color-fitted-level-0);\n",
              "}\n",
              "\n",
              "#sk-container-id-1 input.sk-toggleable__control:checked~div.sk-toggleable__content {\n",
              "  /* Expand drop-down */\n",
              "  max-height: 200px;\n",
              "  max-width: 100%;\n",
              "  overflow: auto;\n",
              "}\n",
              "\n",
              "#sk-container-id-1 input.sk-toggleable__control:checked~label.sk-toggleable__label-arrow:before {\n",
              "  content: \"▾\";\n",
              "}\n",
              "\n",
              "/* Pipeline/ColumnTransformer-specific style */\n",
              "\n",
              "#sk-container-id-1 div.sk-label input.sk-toggleable__control:checked~label.sk-toggleable__label {\n",
              "  color: var(--sklearn-color-text);\n",
              "  background-color: var(--sklearn-color-unfitted-level-2);\n",
              "}\n",
              "\n",
              "#sk-container-id-1 div.sk-label.fitted input.sk-toggleable__control:checked~label.sk-toggleable__label {\n",
              "  background-color: var(--sklearn-color-fitted-level-2);\n",
              "}\n",
              "\n",
              "/* Estimator-specific style */\n",
              "\n",
              "/* Colorize estimator box */\n",
              "#sk-container-id-1 div.sk-estimator input.sk-toggleable__control:checked~label.sk-toggleable__label {\n",
              "  /* unfitted */\n",
              "  background-color: var(--sklearn-color-unfitted-level-2);\n",
              "}\n",
              "\n",
              "#sk-container-id-1 div.sk-estimator.fitted input.sk-toggleable__control:checked~label.sk-toggleable__label {\n",
              "  /* fitted */\n",
              "  background-color: var(--sklearn-color-fitted-level-2);\n",
              "}\n",
              "\n",
              "#sk-container-id-1 div.sk-label label.sk-toggleable__label,\n",
              "#sk-container-id-1 div.sk-label label {\n",
              "  /* The background is the default theme color */\n",
              "  color: var(--sklearn-color-text-on-default-background);\n",
              "}\n",
              "\n",
              "/* On hover, darken the color of the background */\n",
              "#sk-container-id-1 div.sk-label:hover label.sk-toggleable__label {\n",
              "  color: var(--sklearn-color-text);\n",
              "  background-color: var(--sklearn-color-unfitted-level-2);\n",
              "}\n",
              "\n",
              "/* Label box, darken color on hover, fitted */\n",
              "#sk-container-id-1 div.sk-label.fitted:hover label.sk-toggleable__label.fitted {\n",
              "  color: var(--sklearn-color-text);\n",
              "  background-color: var(--sklearn-color-fitted-level-2);\n",
              "}\n",
              "\n",
              "/* Estimator label */\n",
              "\n",
              "#sk-container-id-1 div.sk-label label {\n",
              "  font-family: monospace;\n",
              "  font-weight: bold;\n",
              "  display: inline-block;\n",
              "  line-height: 1.2em;\n",
              "}\n",
              "\n",
              "#sk-container-id-1 div.sk-label-container {\n",
              "  text-align: center;\n",
              "}\n",
              "\n",
              "/* Estimator-specific */\n",
              "#sk-container-id-1 div.sk-estimator {\n",
              "  font-family: monospace;\n",
              "  border: 1px dotted var(--sklearn-color-border-box);\n",
              "  border-radius: 0.25em;\n",
              "  box-sizing: border-box;\n",
              "  margin-bottom: 0.5em;\n",
              "  /* unfitted */\n",
              "  background-color: var(--sklearn-color-unfitted-level-0);\n",
              "}\n",
              "\n",
              "#sk-container-id-1 div.sk-estimator.fitted {\n",
              "  /* fitted */\n",
              "  background-color: var(--sklearn-color-fitted-level-0);\n",
              "}\n",
              "\n",
              "/* on hover */\n",
              "#sk-container-id-1 div.sk-estimator:hover {\n",
              "  /* unfitted */\n",
              "  background-color: var(--sklearn-color-unfitted-level-2);\n",
              "}\n",
              "\n",
              "#sk-container-id-1 div.sk-estimator.fitted:hover {\n",
              "  /* fitted */\n",
              "  background-color: var(--sklearn-color-fitted-level-2);\n",
              "}\n",
              "\n",
              "/* Specification for estimator info (e.g. \"i\" and \"?\") */\n",
              "\n",
              "/* Common style for \"i\" and \"?\" */\n",
              "\n",
              ".sk-estimator-doc-link,\n",
              "a:link.sk-estimator-doc-link,\n",
              "a:visited.sk-estimator-doc-link {\n",
              "  float: right;\n",
              "  font-size: smaller;\n",
              "  line-height: 1em;\n",
              "  font-family: monospace;\n",
              "  background-color: var(--sklearn-color-background);\n",
              "  border-radius: 1em;\n",
              "  height: 1em;\n",
              "  width: 1em;\n",
              "  text-decoration: none !important;\n",
              "  margin-left: 0.5em;\n",
              "  text-align: center;\n",
              "  /* unfitted */\n",
              "  border: var(--sklearn-color-unfitted-level-1) 1pt solid;\n",
              "  color: var(--sklearn-color-unfitted-level-1);\n",
              "}\n",
              "\n",
              ".sk-estimator-doc-link.fitted,\n",
              "a:link.sk-estimator-doc-link.fitted,\n",
              "a:visited.sk-estimator-doc-link.fitted {\n",
              "  /* fitted */\n",
              "  border: var(--sklearn-color-fitted-level-1) 1pt solid;\n",
              "  color: var(--sklearn-color-fitted-level-1);\n",
              "}\n",
              "\n",
              "/* On hover */\n",
              "div.sk-estimator:hover .sk-estimator-doc-link:hover,\n",
              ".sk-estimator-doc-link:hover,\n",
              "div.sk-label-container:hover .sk-estimator-doc-link:hover,\n",
              ".sk-estimator-doc-link:hover {\n",
              "  /* unfitted */\n",
              "  background-color: var(--sklearn-color-unfitted-level-3);\n",
              "  color: var(--sklearn-color-background);\n",
              "  text-decoration: none;\n",
              "}\n",
              "\n",
              "div.sk-estimator.fitted:hover .sk-estimator-doc-link.fitted:hover,\n",
              ".sk-estimator-doc-link.fitted:hover,\n",
              "div.sk-label-container:hover .sk-estimator-doc-link.fitted:hover,\n",
              ".sk-estimator-doc-link.fitted:hover {\n",
              "  /* fitted */\n",
              "  background-color: var(--sklearn-color-fitted-level-3);\n",
              "  color: var(--sklearn-color-background);\n",
              "  text-decoration: none;\n",
              "}\n",
              "\n",
              "/* Span, style for the box shown on hovering the info icon */\n",
              ".sk-estimator-doc-link span {\n",
              "  display: none;\n",
              "  z-index: 9999;\n",
              "  position: relative;\n",
              "  font-weight: normal;\n",
              "  right: .2ex;\n",
              "  padding: .5ex;\n",
              "  margin: .5ex;\n",
              "  width: min-content;\n",
              "  min-width: 20ex;\n",
              "  max-width: 50ex;\n",
              "  color: var(--sklearn-color-text);\n",
              "  box-shadow: 2pt 2pt 4pt #999;\n",
              "  /* unfitted */\n",
              "  background: var(--sklearn-color-unfitted-level-0);\n",
              "  border: .5pt solid var(--sklearn-color-unfitted-level-3);\n",
              "}\n",
              "\n",
              ".sk-estimator-doc-link.fitted span {\n",
              "  /* fitted */\n",
              "  background: var(--sklearn-color-fitted-level-0);\n",
              "  border: var(--sklearn-color-fitted-level-3);\n",
              "}\n",
              "\n",
              ".sk-estimator-doc-link:hover span {\n",
              "  display: block;\n",
              "}\n",
              "\n",
              "/* \"?\"-specific style due to the `<a>` HTML tag */\n",
              "\n",
              "#sk-container-id-1 a.estimator_doc_link {\n",
              "  float: right;\n",
              "  font-size: 1rem;\n",
              "  line-height: 1em;\n",
              "  font-family: monospace;\n",
              "  background-color: var(--sklearn-color-background);\n",
              "  border-radius: 1rem;\n",
              "  height: 1rem;\n",
              "  width: 1rem;\n",
              "  text-decoration: none;\n",
              "  /* unfitted */\n",
              "  color: var(--sklearn-color-unfitted-level-1);\n",
              "  border: var(--sklearn-color-unfitted-level-1) 1pt solid;\n",
              "}\n",
              "\n",
              "#sk-container-id-1 a.estimator_doc_link.fitted {\n",
              "  /* fitted */\n",
              "  border: var(--sklearn-color-fitted-level-1) 1pt solid;\n",
              "  color: var(--sklearn-color-fitted-level-1);\n",
              "}\n",
              "\n",
              "/* On hover */\n",
              "#sk-container-id-1 a.estimator_doc_link:hover {\n",
              "  /* unfitted */\n",
              "  background-color: var(--sklearn-color-unfitted-level-3);\n",
              "  color: var(--sklearn-color-background);\n",
              "  text-decoration: none;\n",
              "}\n",
              "\n",
              "#sk-container-id-1 a.estimator_doc_link.fitted:hover {\n",
              "  /* fitted */\n",
              "  background-color: var(--sklearn-color-fitted-level-3);\n",
              "}\n",
              "</style><div id=\"sk-container-id-1\" class=\"sk-top-container\"><div class=\"sk-text-repr-fallback\"><pre>LinearRegression()</pre><b>In a Jupyter environment, please rerun this cell to show the HTML representation or trust the notebook. <br />On GitHub, the HTML representation is unable to render, please try loading this page with nbviewer.org.</b></div><div class=\"sk-container\" hidden><div class=\"sk-item\"><div class=\"sk-estimator fitted sk-toggleable\"><input class=\"sk-toggleable__control sk-hidden--visually\" id=\"sk-estimator-id-1\" type=\"checkbox\" checked><label for=\"sk-estimator-id-1\" class=\"sk-toggleable__label fitted sk-toggleable__label-arrow\"><div><div>LinearRegression</div></div><div><a class=\"sk-estimator-doc-link fitted\" rel=\"noreferrer\" target=\"_blank\" href=\"https://scikit-learn.org/1.6/modules/generated/sklearn.linear_model.LinearRegression.html\">?<span>Documentation for LinearRegression</span></a><span class=\"sk-estimator-doc-link fitted\">i<span>Fitted</span></span></div></label><div class=\"sk-toggleable__content fitted\"><pre>LinearRegression()</pre></div> </div></div></div></div>"
            ]
          },
          "metadata": {},
          "execution_count": 36
        }
      ],
      "source": [
        "# build model with train\n",
        "lr = LinearRegression()\n",
        "lr.fit(X_train, y_train)"
      ]
    },
    {
      "cell_type": "code",
      "execution_count": 37,
      "metadata": {
        "colab": {
          "base_uri": "https://localhost:8080/"
        },
        "id": "zZtoVzA_pk-p",
        "outputId": "4f303cb2-c672-406f-c994-93efe3678ab5"
      },
      "outputs": [
        {
          "output_type": "stream",
          "name": "stdout",
          "text": [
            "1076.6641489679748\n"
          ]
        }
      ],
      "source": [
        "# evaluate train mse\n",
        "train_preds = lr.predict(X_train)\n",
        "print(mean_squared_error(y_train, train_preds))"
      ]
    },
    {
      "cell_type": "code",
      "execution_count": 38,
      "metadata": {
        "colab": {
          "base_uri": "https://localhost:8080/"
        },
        "id": "8b98NndVpk-p",
        "outputId": "14085652-9b13-48f6-db5e-4aa365e57857"
      },
      "outputs": [
        {
          "output_type": "stream",
          "name": "stdout",
          "text": [
            "3424.6259087061494\n"
          ]
        }
      ],
      "source": [
        "# evaluate test mse\n",
        "test_preds = lr.predict(X_test)\n",
        "print(mean_squared_error(y_test, test_preds))"
      ]
    },
    {
      "cell_type": "markdown",
      "metadata": {
        "id": "dkRXniutpk-p"
      },
      "source": [
        "#### Using the test data to determine model complexity\n",
        "\n",
        "Now, you can use the test set to measure the performance of models with varied complexity -- choosing the \"best\" based on the scores on the test data."
      ]
    },
    {
      "cell_type": "code",
      "execution_count": 39,
      "metadata": {
        "colab": {
          "base_uri": "https://localhost:8080/"
        },
        "id": "oDw2HhpOpk-p",
        "outputId": "4eb76a30-78a1-4849-8d09-c55158454028"
      },
      "outputs": [
        {
          "output_type": "stream",
          "name": "stdout",
          "text": [
            "Train MSE: 1076.6641489679748\n",
            "Test MSE: 3424.6259087061494\n",
            "--------------------------------\n",
            "Train MSE: 819.6896362278413\n",
            "Test MSE: 2740.507609445044\n",
            "--------------------------------\n",
            "Train MSE: 779.111613794596\n",
            "Test MSE: 2783.3570334894066\n",
            "--------------------------------\n",
            "Train MSE: 757.089935782425\n",
            "Test MSE: 3493.3187646279566\n",
            "--------------------------------\n",
            "Train MSE: 750.5233233919222\n",
            "Test MSE: 12821.629881401424\n",
            "--------------------------------\n",
            "Train MSE: 757.0737985153683\n",
            "Test MSE: 76165.11138825607\n",
            "--------------------------------\n",
            "Train MSE: 866.0920030705323\n",
            "Test MSE: 4158.2800611901275\n",
            "--------------------------------\n",
            "Train MSE: 841.9874771977007\n",
            "Test MSE: 176376.4386315199\n",
            "--------------------------------\n",
            "Train MSE: 820.845606327478\n",
            "Test MSE: 2686816.733082481\n",
            "--------------------------------\n"
          ]
        }
      ],
      "source": [
        "# create polynomial features for train and test\n",
        "for i in range(1, 10):\n",
        "    poly_feats = PolynomialFeatures(degree = i, include_bias = False)\n",
        "    X_train_poly = poly_feats.fit_transform(X_train)\n",
        "    X_test_poly = poly_feats.transform(X_test)\n",
        "    lr = LinearRegression()\n",
        "    lr.fit(X_train_poly, y_train)\n",
        "    train_preds = lr.predict(X_train_poly)\n",
        "    test_preds = lr.predict(X_test_poly)\n",
        "    print(f'Train MSE: {mean_squared_error(y_train, train_preds)}')\n",
        "    print(f'Test MSE: {mean_squared_error(y_test, test_preds)}')\n",
        "    print('--------------------------------')\n"
      ]
    },
    {
      "cell_type": "code",
      "execution_count": 40,
      "metadata": {
        "id": "JVzZdP8Zpk-p"
      },
      "outputs": [],
      "source": [
        "# fit the model\n"
      ]
    },
    {
      "cell_type": "code",
      "execution_count": 41,
      "metadata": {
        "id": "Dwsw18kzpk-p"
      },
      "outputs": [],
      "source": [
        "# train MSE\n"
      ]
    },
    {
      "cell_type": "code",
      "execution_count": 42,
      "metadata": {
        "id": "lclM9YVopk-q"
      },
      "outputs": [],
      "source": [
        "# test MSE\n"
      ]
    },
    {
      "cell_type": "markdown",
      "metadata": {
        "id": "qfZJX_qeBPca"
      },
      "source": [
        "### Part II"
      ]
    },
    {
      "cell_type": "markdown",
      "metadata": {
        "id": "m1aRYa3Dpk-q"
      },
      "source": [
        "#### Another Example\n",
        "\n",
        "Returning to the credit dataset from earlier, we walk through a basic model building exercise.  Along the way we will explore the `OneHotEncoder` and `make_column_transformer` to help with preparing the data for modeling.  Our workflow is as follows:\n",
        "\n",
        "- Convert categorical columns to dummy encoded\n",
        "- Add polynomial features\n",
        "- Build `LinearRegression` model on train data\n",
        "- Evaluate on test data"
      ]
    },
    {
      "cell_type": "code",
      "execution_count": 43,
      "metadata": {
        "id": "f_QfNJcGBPca"
      },
      "outputs": [],
      "source": [
        "from sklearn.preprocessing import OneHotEncoder\n",
        "from sklearn.compose import make_column_transformer"
      ]
    },
    {
      "cell_type": "code",
      "execution_count": 44,
      "metadata": {
        "id": "KJ-KGKW_pk-r"
      },
      "outputs": [],
      "source": [
        "# load data\n",
        "url = 'https://raw.githubusercontent.com/jfkoehler/nyu_bootcamp_fa24/main/data/Credit.csv'\n",
        "credit = pd.read_csv(url, index_col = 0)"
      ]
    },
    {
      "cell_type": "code",
      "execution_count": 45,
      "metadata": {
        "id": "DJLp2sb3pk-r",
        "outputId": "3150e64f-b961-40e4-c595-ca9f68753bd9",
        "colab": {
          "base_uri": "https://localhost:8080/",
          "height": 112
        }
      },
      "outputs": [
        {
          "output_type": "execute_result",
          "data": {
            "text/plain": [
              "    Income  Limit  Rating  Cards  Age  Education  Gender Student Married  \\\n",
              "1   14.891   3606     283      2   34         11    Male      No     Yes   \n",
              "2  106.025   6645     483      3   82         15  Female     Yes     Yes   \n",
              "\n",
              "   Ethnicity  Balance  \n",
              "1  Caucasian      333  \n",
              "2      Asian      903  "
            ],
            "text/html": [
              "\n",
              "  <div id=\"df-5af15b28-6954-47ca-bbd6-80104e7d74e9\" class=\"colab-df-container\">\n",
              "    <div>\n",
              "<style scoped>\n",
              "    .dataframe tbody tr th:only-of-type {\n",
              "        vertical-align: middle;\n",
              "    }\n",
              "\n",
              "    .dataframe tbody tr th {\n",
              "        vertical-align: top;\n",
              "    }\n",
              "\n",
              "    .dataframe thead th {\n",
              "        text-align: right;\n",
              "    }\n",
              "</style>\n",
              "<table border=\"1\" class=\"dataframe\">\n",
              "  <thead>\n",
              "    <tr style=\"text-align: right;\">\n",
              "      <th></th>\n",
              "      <th>Income</th>\n",
              "      <th>Limit</th>\n",
              "      <th>Rating</th>\n",
              "      <th>Cards</th>\n",
              "      <th>Age</th>\n",
              "      <th>Education</th>\n",
              "      <th>Gender</th>\n",
              "      <th>Student</th>\n",
              "      <th>Married</th>\n",
              "      <th>Ethnicity</th>\n",
              "      <th>Balance</th>\n",
              "    </tr>\n",
              "  </thead>\n",
              "  <tbody>\n",
              "    <tr>\n",
              "      <th>1</th>\n",
              "      <td>14.891</td>\n",
              "      <td>3606</td>\n",
              "      <td>283</td>\n",
              "      <td>2</td>\n",
              "      <td>34</td>\n",
              "      <td>11</td>\n",
              "      <td>Male</td>\n",
              "      <td>No</td>\n",
              "      <td>Yes</td>\n",
              "      <td>Caucasian</td>\n",
              "      <td>333</td>\n",
              "    </tr>\n",
              "    <tr>\n",
              "      <th>2</th>\n",
              "      <td>106.025</td>\n",
              "      <td>6645</td>\n",
              "      <td>483</td>\n",
              "      <td>3</td>\n",
              "      <td>82</td>\n",
              "      <td>15</td>\n",
              "      <td>Female</td>\n",
              "      <td>Yes</td>\n",
              "      <td>Yes</td>\n",
              "      <td>Asian</td>\n",
              "      <td>903</td>\n",
              "    </tr>\n",
              "  </tbody>\n",
              "</table>\n",
              "</div>\n",
              "    <div class=\"colab-df-buttons\">\n",
              "\n",
              "  <div class=\"colab-df-container\">\n",
              "    <button class=\"colab-df-convert\" onclick=\"convertToInteractive('df-5af15b28-6954-47ca-bbd6-80104e7d74e9')\"\n",
              "            title=\"Convert this dataframe to an interactive table.\"\n",
              "            style=\"display:none;\">\n",
              "\n",
              "  <svg xmlns=\"http://www.w3.org/2000/svg\" height=\"24px\" viewBox=\"0 -960 960 960\">\n",
              "    <path d=\"M120-120v-720h720v720H120Zm60-500h600v-160H180v160Zm220 220h160v-160H400v160Zm0 220h160v-160H400v160ZM180-400h160v-160H180v160Zm440 0h160v-160H620v160ZM180-180h160v-160H180v160Zm440 0h160v-160H620v160Z\"/>\n",
              "  </svg>\n",
              "    </button>\n",
              "\n",
              "  <style>\n",
              "    .colab-df-container {\n",
              "      display:flex;\n",
              "      gap: 12px;\n",
              "    }\n",
              "\n",
              "    .colab-df-convert {\n",
              "      background-color: #E8F0FE;\n",
              "      border: none;\n",
              "      border-radius: 50%;\n",
              "      cursor: pointer;\n",
              "      display: none;\n",
              "      fill: #1967D2;\n",
              "      height: 32px;\n",
              "      padding: 0 0 0 0;\n",
              "      width: 32px;\n",
              "    }\n",
              "\n",
              "    .colab-df-convert:hover {\n",
              "      background-color: #E2EBFA;\n",
              "      box-shadow: 0px 1px 2px rgba(60, 64, 67, 0.3), 0px 1px 3px 1px rgba(60, 64, 67, 0.15);\n",
              "      fill: #174EA6;\n",
              "    }\n",
              "\n",
              "    .colab-df-buttons div {\n",
              "      margin-bottom: 4px;\n",
              "    }\n",
              "\n",
              "    [theme=dark] .colab-df-convert {\n",
              "      background-color: #3B4455;\n",
              "      fill: #D2E3FC;\n",
              "    }\n",
              "\n",
              "    [theme=dark] .colab-df-convert:hover {\n",
              "      background-color: #434B5C;\n",
              "      box-shadow: 0px 1px 3px 1px rgba(0, 0, 0, 0.15);\n",
              "      filter: drop-shadow(0px 1px 2px rgba(0, 0, 0, 0.3));\n",
              "      fill: #FFFFFF;\n",
              "    }\n",
              "  </style>\n",
              "\n",
              "    <script>\n",
              "      const buttonEl =\n",
              "        document.querySelector('#df-5af15b28-6954-47ca-bbd6-80104e7d74e9 button.colab-df-convert');\n",
              "      buttonEl.style.display =\n",
              "        google.colab.kernel.accessAllowed ? 'block' : 'none';\n",
              "\n",
              "      async function convertToInteractive(key) {\n",
              "        const element = document.querySelector('#df-5af15b28-6954-47ca-bbd6-80104e7d74e9');\n",
              "        const dataTable =\n",
              "          await google.colab.kernel.invokeFunction('convertToInteractive',\n",
              "                                                    [key], {});\n",
              "        if (!dataTable) return;\n",
              "\n",
              "        const docLinkHtml = 'Like what you see? Visit the ' +\n",
              "          '<a target=\"_blank\" href=https://colab.research.google.com/notebooks/data_table.ipynb>data table notebook</a>'\n",
              "          + ' to learn more about interactive tables.';\n",
              "        element.innerHTML = '';\n",
              "        dataTable['output_type'] = 'display_data';\n",
              "        await google.colab.output.renderOutput(dataTable, element);\n",
              "        const docLink = document.createElement('div');\n",
              "        docLink.innerHTML = docLinkHtml;\n",
              "        element.appendChild(docLink);\n",
              "      }\n",
              "    </script>\n",
              "  </div>\n",
              "\n",
              "\n",
              "    <div id=\"df-f9f2bf5b-ca60-4ba3-ba74-8583c1aef386\">\n",
              "      <button class=\"colab-df-quickchart\" onclick=\"quickchart('df-f9f2bf5b-ca60-4ba3-ba74-8583c1aef386')\"\n",
              "                title=\"Suggest charts\"\n",
              "                style=\"display:none;\">\n",
              "\n",
              "<svg xmlns=\"http://www.w3.org/2000/svg\" height=\"24px\"viewBox=\"0 0 24 24\"\n",
              "     width=\"24px\">\n",
              "    <g>\n",
              "        <path d=\"M19 3H5c-1.1 0-2 .9-2 2v14c0 1.1.9 2 2 2h14c1.1 0 2-.9 2-2V5c0-1.1-.9-2-2-2zM9 17H7v-7h2v7zm4 0h-2V7h2v10zm4 0h-2v-4h2v4z\"/>\n",
              "    </g>\n",
              "</svg>\n",
              "      </button>\n",
              "\n",
              "<style>\n",
              "  .colab-df-quickchart {\n",
              "      --bg-color: #E8F0FE;\n",
              "      --fill-color: #1967D2;\n",
              "      --hover-bg-color: #E2EBFA;\n",
              "      --hover-fill-color: #174EA6;\n",
              "      --disabled-fill-color: #AAA;\n",
              "      --disabled-bg-color: #DDD;\n",
              "  }\n",
              "\n",
              "  [theme=dark] .colab-df-quickchart {\n",
              "      --bg-color: #3B4455;\n",
              "      --fill-color: #D2E3FC;\n",
              "      --hover-bg-color: #434B5C;\n",
              "      --hover-fill-color: #FFFFFF;\n",
              "      --disabled-bg-color: #3B4455;\n",
              "      --disabled-fill-color: #666;\n",
              "  }\n",
              "\n",
              "  .colab-df-quickchart {\n",
              "    background-color: var(--bg-color);\n",
              "    border: none;\n",
              "    border-radius: 50%;\n",
              "    cursor: pointer;\n",
              "    display: none;\n",
              "    fill: var(--fill-color);\n",
              "    height: 32px;\n",
              "    padding: 0;\n",
              "    width: 32px;\n",
              "  }\n",
              "\n",
              "  .colab-df-quickchart:hover {\n",
              "    background-color: var(--hover-bg-color);\n",
              "    box-shadow: 0 1px 2px rgba(60, 64, 67, 0.3), 0 1px 3px 1px rgba(60, 64, 67, 0.15);\n",
              "    fill: var(--button-hover-fill-color);\n",
              "  }\n",
              "\n",
              "  .colab-df-quickchart-complete:disabled,\n",
              "  .colab-df-quickchart-complete:disabled:hover {\n",
              "    background-color: var(--disabled-bg-color);\n",
              "    fill: var(--disabled-fill-color);\n",
              "    box-shadow: none;\n",
              "  }\n",
              "\n",
              "  .colab-df-spinner {\n",
              "    border: 2px solid var(--fill-color);\n",
              "    border-color: transparent;\n",
              "    border-bottom-color: var(--fill-color);\n",
              "    animation:\n",
              "      spin 1s steps(1) infinite;\n",
              "  }\n",
              "\n",
              "  @keyframes spin {\n",
              "    0% {\n",
              "      border-color: transparent;\n",
              "      border-bottom-color: var(--fill-color);\n",
              "      border-left-color: var(--fill-color);\n",
              "    }\n",
              "    20% {\n",
              "      border-color: transparent;\n",
              "      border-left-color: var(--fill-color);\n",
              "      border-top-color: var(--fill-color);\n",
              "    }\n",
              "    30% {\n",
              "      border-color: transparent;\n",
              "      border-left-color: var(--fill-color);\n",
              "      border-top-color: var(--fill-color);\n",
              "      border-right-color: var(--fill-color);\n",
              "    }\n",
              "    40% {\n",
              "      border-color: transparent;\n",
              "      border-right-color: var(--fill-color);\n",
              "      border-top-color: var(--fill-color);\n",
              "    }\n",
              "    60% {\n",
              "      border-color: transparent;\n",
              "      border-right-color: var(--fill-color);\n",
              "    }\n",
              "    80% {\n",
              "      border-color: transparent;\n",
              "      border-right-color: var(--fill-color);\n",
              "      border-bottom-color: var(--fill-color);\n",
              "    }\n",
              "    90% {\n",
              "      border-color: transparent;\n",
              "      border-bottom-color: var(--fill-color);\n",
              "    }\n",
              "  }\n",
              "</style>\n",
              "\n",
              "      <script>\n",
              "        async function quickchart(key) {\n",
              "          const quickchartButtonEl =\n",
              "            document.querySelector('#' + key + ' button');\n",
              "          quickchartButtonEl.disabled = true;  // To prevent multiple clicks.\n",
              "          quickchartButtonEl.classList.add('colab-df-spinner');\n",
              "          try {\n",
              "            const charts = await google.colab.kernel.invokeFunction(\n",
              "                'suggestCharts', [key], {});\n",
              "          } catch (error) {\n",
              "            console.error('Error during call to suggestCharts:', error);\n",
              "          }\n",
              "          quickchartButtonEl.classList.remove('colab-df-spinner');\n",
              "          quickchartButtonEl.classList.add('colab-df-quickchart-complete');\n",
              "        }\n",
              "        (() => {\n",
              "          let quickchartButtonEl =\n",
              "            document.querySelector('#df-f9f2bf5b-ca60-4ba3-ba74-8583c1aef386 button');\n",
              "          quickchartButtonEl.style.display =\n",
              "            google.colab.kernel.accessAllowed ? 'block' : 'none';\n",
              "        })();\n",
              "      </script>\n",
              "    </div>\n",
              "\n",
              "    </div>\n",
              "  </div>\n"
            ],
            "application/vnd.google.colaboratory.intrinsic+json": {
              "type": "dataframe",
              "variable_name": "credit",
              "summary": "{\n  \"name\": \"credit\",\n  \"rows\": 400,\n  \"fields\": [\n    {\n      \"column\": \"Income\",\n      \"properties\": {\n        \"dtype\": \"number\",\n        \"std\": 35.24427316507052,\n        \"min\": 10.354,\n        \"max\": 186.634,\n        \"num_unique_values\": 399,\n        \"samples\": [\n          27.349,\n          48.577,\n          31.367\n        ],\n        \"semantic_type\": \"\",\n        \"description\": \"\"\n      }\n    },\n    {\n      \"column\": \"Limit\",\n      \"properties\": {\n        \"dtype\": \"number\",\n        \"std\": 2308,\n        \"min\": 855,\n        \"max\": 13913,\n        \"num_unique_values\": 387,\n        \"samples\": [\n          3096,\n          1362,\n          6040\n        ],\n        \"semantic_type\": \"\",\n        \"description\": \"\"\n      }\n    },\n    {\n      \"column\": \"Rating\",\n      \"properties\": {\n        \"dtype\": \"number\",\n        \"std\": 154,\n        \"min\": 93,\n        \"max\": 982,\n        \"num_unique_values\": 283,\n        \"samples\": [\n          491,\n          329,\n          214\n        ],\n        \"semantic_type\": \"\",\n        \"description\": \"\"\n      }\n    },\n    {\n      \"column\": \"Cards\",\n      \"properties\": {\n        \"dtype\": \"number\",\n        \"std\": 1,\n        \"min\": 1,\n        \"max\": 9,\n        \"num_unique_values\": 9,\n        \"samples\": [\n          8,\n          3,\n          6\n        ],\n        \"semantic_type\": \"\",\n        \"description\": \"\"\n      }\n    },\n    {\n      \"column\": \"Age\",\n      \"properties\": {\n        \"dtype\": \"number\",\n        \"std\": 17,\n        \"min\": 23,\n        \"max\": 98,\n        \"num_unique_values\": 68,\n        \"samples\": [\n          52,\n          69,\n          68\n        ],\n        \"semantic_type\": \"\",\n        \"description\": \"\"\n      }\n    },\n    {\n      \"column\": \"Education\",\n      \"properties\": {\n        \"dtype\": \"number\",\n        \"std\": 3,\n        \"min\": 5,\n        \"max\": 20,\n        \"num_unique_values\": 16,\n        \"samples\": [\n          11,\n          15,\n          9\n        ],\n        \"semantic_type\": \"\",\n        \"description\": \"\"\n      }\n    },\n    {\n      \"column\": \"Gender\",\n      \"properties\": {\n        \"dtype\": \"category\",\n        \"num_unique_values\": 2,\n        \"samples\": [\n          \"Female\",\n          \"Male\"\n        ],\n        \"semantic_type\": \"\",\n        \"description\": \"\"\n      }\n    },\n    {\n      \"column\": \"Student\",\n      \"properties\": {\n        \"dtype\": \"category\",\n        \"num_unique_values\": 2,\n        \"samples\": [\n          \"Yes\",\n          \"No\"\n        ],\n        \"semantic_type\": \"\",\n        \"description\": \"\"\n      }\n    },\n    {\n      \"column\": \"Married\",\n      \"properties\": {\n        \"dtype\": \"category\",\n        \"num_unique_values\": 2,\n        \"samples\": [\n          \"No\",\n          \"Yes\"\n        ],\n        \"semantic_type\": \"\",\n        \"description\": \"\"\n      }\n    },\n    {\n      \"column\": \"Ethnicity\",\n      \"properties\": {\n        \"dtype\": \"category\",\n        \"num_unique_values\": 3,\n        \"samples\": [\n          \"Caucasian\",\n          \"Asian\"\n        ],\n        \"semantic_type\": \"\",\n        \"description\": \"\"\n      }\n    },\n    {\n      \"column\": \"Balance\",\n      \"properties\": {\n        \"dtype\": \"number\",\n        \"std\": 459,\n        \"min\": 0,\n        \"max\": 1999,\n        \"num_unique_values\": 284,\n        \"samples\": [\n          1350,\n          1405\n        ],\n        \"semantic_type\": \"\",\n        \"description\": \"\"\n      }\n    }\n  ]\n}"
            }
          },
          "metadata": {},
          "execution_count": 45
        }
      ],
      "source": [
        "# train/test split\n",
        "credit.head(2)"
      ]
    },
    {
      "cell_type": "code",
      "execution_count": 46,
      "metadata": {
        "id": "4PmP2sfCpk-s",
        "outputId": "bd52a71e-a894-4fdc-8d36-537c4599aa9c",
        "colab": {
          "base_uri": "https://localhost:8080/",
          "height": 162
        }
      },
      "outputs": [
        {
          "output_type": "error",
          "ename": "TypeError",
          "evalue": "OneHotEncoder.__init__() got an unexpected keyword argument 'sparse'",
          "traceback": [
            "\u001b[0;31m---------------------------------------------------------------------------\u001b[0m",
            "\u001b[0;31mTypeError\u001b[0m                                 Traceback (most recent call last)",
            "\u001b[0;32m/tmp/ipython-input-2438430976.py\u001b[0m in \u001b[0;36m<cell line: 0>\u001b[0;34m()\u001b[0m\n\u001b[1;32m      1\u001b[0m \u001b[0;31m# import OneHotEncoder\u001b[0m\u001b[0;34m\u001b[0m\u001b[0;34m\u001b[0m\u001b[0m\n\u001b[0;32m----> 2\u001b[0;31m \u001b[0mohe\u001b[0m \u001b[0;34m=\u001b[0m \u001b[0mOneHotEncoder\u001b[0m\u001b[0;34m(\u001b[0m\u001b[0mdrop\u001b[0m \u001b[0;34m=\u001b[0m \u001b[0;34m'first'\u001b[0m\u001b[0;34m,\u001b[0m \u001b[0msparse\u001b[0m \u001b[0;34m=\u001b[0m \u001b[0;32mFalse\u001b[0m\u001b[0;34m)\u001b[0m\u001b[0;34m\u001b[0m\u001b[0;34m\u001b[0m\u001b[0m\n\u001b[0m",
            "\u001b[0;31mTypeError\u001b[0m: OneHotEncoder.__init__() got an unexpected keyword argument 'sparse'"
          ]
        }
      ],
      "source": [
        "# import OneHotEncoder\n",
        "ohe = OneHotEncoder(drop = 'first', sparse = False)"
      ]
    },
    {
      "cell_type": "code",
      "execution_count": null,
      "metadata": {
        "id": "4DwOX1ebpk-s"
      },
      "outputs": [],
      "source": [
        "# instantiate\n",
        "X_train, X_test, y_train, y_test = train_test_split(credit[['Ethnicity', 'Limit', 'Student']], credit['Balance'])"
      ]
    },
    {
      "cell_type": "code",
      "execution_count": null,
      "metadata": {
        "id": "fwFNwEGUpk-s"
      },
      "outputs": [],
      "source": [
        "# fit and transform train data\n",
        "XT = ohe.fit_transform(X_train)\n",
        "# print(XT)"
      ]
    },
    {
      "cell_type": "code",
      "execution_count": null,
      "metadata": {
        "id": "dPzk3mO9pk-s"
      },
      "outputs": [],
      "source": [
        "# instead we specify columns with make_column_selector\n",
        "selector = make_column_transformer((OneHotEncoder(drop = 'first'), ['Ethnicity', 'Student']),\n",
        "                                  remainder = 'passthrough')"
      ]
    },
    {
      "cell_type": "code",
      "execution_count": null,
      "metadata": {
        "id": "Kh_NPy99pk-s"
      },
      "outputs": [],
      "source": [
        "# transform train and test\n",
        "XTR = selector.fit_transform(X_train)\n",
        "XTS = selector.transform(X_test)"
      ]
    },
    {
      "cell_type": "code",
      "execution_count": null,
      "metadata": {
        "id": "MQBgh2l0BPcb"
      },
      "outputs": [],
      "source": [
        "XTR"
      ]
    },
    {
      "cell_type": "code",
      "execution_count": null,
      "metadata": {
        "id": "xesPeYjFpk-s"
      },
      "outputs": [],
      "source": [
        "# add polynomial features\n",
        "pfeats = PolynomialFeatures()\n",
        "XTRP = pfeats.fit_transform(XTR)\n",
        "XTRS = pfeats.transform(XTS)"
      ]
    },
    {
      "cell_type": "code",
      "execution_count": null,
      "metadata": {
        "id": "JTDaJUbupk-s"
      },
      "outputs": [],
      "source": [
        "# fit regression model\n",
        "lr6 = LinearRegression().fit(XTRP, y_train)"
      ]
    },
    {
      "cell_type": "code",
      "execution_count": null,
      "metadata": {
        "id": "fdrIq-tKpk-s"
      },
      "outputs": [],
      "source": [
        "# score on train\n",
        "mean_squared_error(y_train, lr6.predict(XTRP))"
      ]
    },
    {
      "cell_type": "code",
      "execution_count": null,
      "metadata": {
        "id": "TO55mJczpk-t"
      },
      "outputs": [],
      "source": [
        "# score on test\n",
        "mean_squared_error(y_test, lr6.predict(XTRS))"
      ]
    },
    {
      "cell_type": "markdown",
      "metadata": {
        "id": "6et80FdMpk-u"
      },
      "source": [
        "#### Exit Ticket\n",
        "\n",
        "- [Here](https://forms.gle/vSykaqfzi5F27hdp6)"
      ]
    },
    {
      "cell_type": "code",
      "execution_count": null,
      "metadata": {
        "id": "x5gKQOzipk-u"
      },
      "outputs": [],
      "source": []
    },
    {
      "cell_type": "code",
      "execution_count": null,
      "metadata": {
        "id": "9MnCB4_upk-u"
      },
      "outputs": [],
      "source": []
    },
    {
      "cell_type": "code",
      "execution_count": null,
      "metadata": {
        "id": "5MZle9I3pk-u"
      },
      "outputs": [],
      "source": []
    },
    {
      "cell_type": "code",
      "execution_count": null,
      "metadata": {
        "id": "d5O-OH5zpk-u"
      },
      "outputs": [],
      "source": []
    },
    {
      "cell_type": "code",
      "execution_count": null,
      "metadata": {
        "id": "hAtEq3X1pk-u"
      },
      "outputs": [],
      "source": []
    },
    {
      "cell_type": "code",
      "execution_count": null,
      "metadata": {
        "id": "-5BEX0E4pk-u"
      },
      "outputs": [],
      "source": []
    },
    {
      "cell_type": "code",
      "execution_count": null,
      "metadata": {
        "id": "TxuiaoCNpk-u"
      },
      "outputs": [],
      "source": []
    },
    {
      "cell_type": "code",
      "execution_count": null,
      "metadata": {
        "id": "2EmCFb6Zpk-u"
      },
      "outputs": [],
      "source": []
    },
    {
      "cell_type": "code",
      "execution_count": null,
      "metadata": {
        "id": "dB2OvL6gpk-u"
      },
      "outputs": [],
      "source": []
    },
    {
      "cell_type": "code",
      "execution_count": null,
      "metadata": {
        "id": "PjFlsh_ipk-u"
      },
      "outputs": [],
      "source": []
    }
  ],
  "metadata": {
    "colab": {
      "provenance": [],
      "include_colab_link": true
    },
    "kernelspec": {
      "display_name": "Python 3 (ipykernel)",
      "language": "python",
      "name": "python3"
    },
    "language_info": {
      "codemirror_mode": {
        "name": "ipython",
        "version": 3
      },
      "file_extension": ".py",
      "mimetype": "text/x-python",
      "name": "python",
      "nbconvert_exporter": "python",
      "pygments_lexer": "ipython3",
      "version": "3.12.0"
    },
    "widgets": {
      "application/vnd.jupyter.widget-state+json": {
        "9dced6d325124c0880e8b0ccca03e0c1": {
          "model_module": "@jupyter-widgets/controls",
          "model_name": "VBoxModel",
          "model_module_version": "1.5.0",
          "state": {
            "_dom_classes": [
              "widget-interact"
            ],
            "_model_module": "@jupyter-widgets/controls",
            "_model_module_version": "1.5.0",
            "_model_name": "VBoxModel",
            "_view_count": null,
            "_view_module": "@jupyter-widgets/controls",
            "_view_module_version": "1.5.0",
            "_view_name": "VBoxView",
            "box_style": "",
            "children": [
              "IPY_MODEL_8ee50721c738448d8dafe31b216e4c1c",
              "IPY_MODEL_9bbff44906d04b6f85a602385a6261b9",
              "IPY_MODEL_e242d62ce5174767a19759c833455be1"
            ],
            "layout": "IPY_MODEL_6d8c7f7335574afabfe404eaaa0404f8"
          }
        },
        "8ee50721c738448d8dafe31b216e4c1c": {
          "model_module": "@jupyter-widgets/controls",
          "model_name": "IntSliderModel",
          "model_module_version": "1.5.0",
          "state": {
            "_dom_classes": [],
            "_model_module": "@jupyter-widgets/controls",
            "_model_module_version": "1.5.0",
            "_model_name": "IntSliderModel",
            "_view_count": null,
            "_view_module": "@jupyter-widgets/controls",
            "_view_module_version": "1.5.0",
            "_view_name": "IntSliderView",
            "continuous_update": true,
            "description": "n",
            "description_tooltip": null,
            "disabled": false,
            "layout": "IPY_MODEL_4715906f52924b95995f9ef9e2398561",
            "max": 30,
            "min": 1,
            "orientation": "horizontal",
            "readout": true,
            "readout_format": "d",
            "step": 1,
            "style": "IPY_MODEL_af75dfcda3b4422291a4b44eda340a2b",
            "value": 1
          }
        },
        "9bbff44906d04b6f85a602385a6261b9": {
          "model_module": "@jupyter-widgets/controls",
          "model_name": "CheckboxModel",
          "model_module_version": "1.5.0",
          "state": {
            "_dom_classes": [],
            "_model_module": "@jupyter-widgets/controls",
            "_model_module_version": "1.5.0",
            "_model_name": "CheckboxModel",
            "_view_count": null,
            "_view_module": "@jupyter-widgets/controls",
            "_view_module_version": "1.5.0",
            "_view_name": "CheckboxView",
            "description": "newdata",
            "description_tooltip": null,
            "disabled": false,
            "indent": true,
            "layout": "IPY_MODEL_8b8a82359b6f4898836382ba925ee385",
            "style": "IPY_MODEL_c64cdf6de99243ed9cddc100140a3dec",
            "value": false
          }
        },
        "e242d62ce5174767a19759c833455be1": {
          "model_module": "@jupyter-widgets/output",
          "model_name": "OutputModel",
          "model_module_version": "1.0.0",
          "state": {
            "_dom_classes": [],
            "_model_module": "@jupyter-widgets/output",
            "_model_module_version": "1.0.0",
            "_model_name": "OutputModel",
            "_view_count": null,
            "_view_module": "@jupyter-widgets/output",
            "_view_module_version": "1.0.0",
            "_view_name": "OutputView",
            "layout": "IPY_MODEL_5136c1c62d5f4bfb9aa94547d925d3f6",
            "msg_id": "",
            "outputs": [
              {
                "output_type": "display_data",
                "data": {
                  "text/plain": "<Figure size 640x480 with 1 Axes>",
                  "image/png": "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\n"
                },
                "metadata": {}
              }
            ]
          }
        },
        "6d8c7f7335574afabfe404eaaa0404f8": {
          "model_module": "@jupyter-widgets/base",
          "model_name": "LayoutModel",
          "model_module_version": "1.2.0",
          "state": {
            "_model_module": "@jupyter-widgets/base",
            "_model_module_version": "1.2.0",
            "_model_name": "LayoutModel",
            "_view_count": null,
            "_view_module": "@jupyter-widgets/base",
            "_view_module_version": "1.2.0",
            "_view_name": "LayoutView",
            "align_content": null,
            "align_items": null,
            "align_self": null,
            "border": null,
            "bottom": null,
            "display": null,
            "flex": null,
            "flex_flow": null,
            "grid_area": null,
            "grid_auto_columns": null,
            "grid_auto_flow": null,
            "grid_auto_rows": null,
            "grid_column": null,
            "grid_gap": null,
            "grid_row": null,
            "grid_template_areas": null,
            "grid_template_columns": null,
            "grid_template_rows": null,
            "height": null,
            "justify_content": null,
            "justify_items": null,
            "left": null,
            "margin": null,
            "max_height": null,
            "max_width": null,
            "min_height": null,
            "min_width": null,
            "object_fit": null,
            "object_position": null,
            "order": null,
            "overflow": null,
            "overflow_x": null,
            "overflow_y": null,
            "padding": null,
            "right": null,
            "top": null,
            "visibility": null,
            "width": null
          }
        },
        "4715906f52924b95995f9ef9e2398561": {
          "model_module": "@jupyter-widgets/base",
          "model_name": "LayoutModel",
          "model_module_version": "1.2.0",
          "state": {
            "_model_module": "@jupyter-widgets/base",
            "_model_module_version": "1.2.0",
            "_model_name": "LayoutModel",
            "_view_count": null,
            "_view_module": "@jupyter-widgets/base",
            "_view_module_version": "1.2.0",
            "_view_name": "LayoutView",
            "align_content": null,
            "align_items": null,
            "align_self": null,
            "border": null,
            "bottom": null,
            "display": null,
            "flex": null,
            "flex_flow": null,
            "grid_area": null,
            "grid_auto_columns": null,
            "grid_auto_flow": null,
            "grid_auto_rows": null,
            "grid_column": null,
            "grid_gap": null,
            "grid_row": null,
            "grid_template_areas": null,
            "grid_template_columns": null,
            "grid_template_rows": null,
            "height": null,
            "justify_content": null,
            "justify_items": null,
            "left": null,
            "margin": null,
            "max_height": null,
            "max_width": null,
            "min_height": null,
            "min_width": null,
            "object_fit": null,
            "object_position": null,
            "order": null,
            "overflow": null,
            "overflow_x": null,
            "overflow_y": null,
            "padding": null,
            "right": null,
            "top": null,
            "visibility": null,
            "width": null
          }
        },
        "af75dfcda3b4422291a4b44eda340a2b": {
          "model_module": "@jupyter-widgets/controls",
          "model_name": "SliderStyleModel",
          "model_module_version": "1.5.0",
          "state": {
            "_model_module": "@jupyter-widgets/controls",
            "_model_module_version": "1.5.0",
            "_model_name": "SliderStyleModel",
            "_view_count": null,
            "_view_module": "@jupyter-widgets/base",
            "_view_module_version": "1.2.0",
            "_view_name": "StyleView",
            "description_width": "",
            "handle_color": null
          }
        },
        "8b8a82359b6f4898836382ba925ee385": {
          "model_module": "@jupyter-widgets/base",
          "model_name": "LayoutModel",
          "model_module_version": "1.2.0",
          "state": {
            "_model_module": "@jupyter-widgets/base",
            "_model_module_version": "1.2.0",
            "_model_name": "LayoutModel",
            "_view_count": null,
            "_view_module": "@jupyter-widgets/base",
            "_view_module_version": "1.2.0",
            "_view_name": "LayoutView",
            "align_content": null,
            "align_items": null,
            "align_self": null,
            "border": null,
            "bottom": null,
            "display": null,
            "flex": null,
            "flex_flow": null,
            "grid_area": null,
            "grid_auto_columns": null,
            "grid_auto_flow": null,
            "grid_auto_rows": null,
            "grid_column": null,
            "grid_gap": null,
            "grid_row": null,
            "grid_template_areas": null,
            "grid_template_columns": null,
            "grid_template_rows": null,
            "height": null,
            "justify_content": null,
            "justify_items": null,
            "left": null,
            "margin": null,
            "max_height": null,
            "max_width": null,
            "min_height": null,
            "min_width": null,
            "object_fit": null,
            "object_position": null,
            "order": null,
            "overflow": null,
            "overflow_x": null,
            "overflow_y": null,
            "padding": null,
            "right": null,
            "top": null,
            "visibility": null,
            "width": null
          }
        },
        "c64cdf6de99243ed9cddc100140a3dec": {
          "model_module": "@jupyter-widgets/controls",
          "model_name": "DescriptionStyleModel",
          "model_module_version": "1.5.0",
          "state": {
            "_model_module": "@jupyter-widgets/controls",
            "_model_module_version": "1.5.0",
            "_model_name": "DescriptionStyleModel",
            "_view_count": null,
            "_view_module": "@jupyter-widgets/base",
            "_view_module_version": "1.2.0",
            "_view_name": "StyleView",
            "description_width": ""
          }
        },
        "5136c1c62d5f4bfb9aa94547d925d3f6": {
          "model_module": "@jupyter-widgets/base",
          "model_name": "LayoutModel",
          "model_module_version": "1.2.0",
          "state": {
            "_model_module": "@jupyter-widgets/base",
            "_model_module_version": "1.2.0",
            "_model_name": "LayoutModel",
            "_view_count": null,
            "_view_module": "@jupyter-widgets/base",
            "_view_module_version": "1.2.0",
            "_view_name": "LayoutView",
            "align_content": null,
            "align_items": null,
            "align_self": null,
            "border": null,
            "bottom": null,
            "display": null,
            "flex": null,
            "flex_flow": null,
            "grid_area": null,
            "grid_auto_columns": null,
            "grid_auto_flow": null,
            "grid_auto_rows": null,
            "grid_column": null,
            "grid_gap": null,
            "grid_row": null,
            "grid_template_areas": null,
            "grid_template_columns": null,
            "grid_template_rows": null,
            "height": null,
            "justify_content": null,
            "justify_items": null,
            "left": null,
            "margin": null,
            "max_height": null,
            "max_width": null,
            "min_height": null,
            "min_width": null,
            "object_fit": null,
            "object_position": null,
            "order": null,
            "overflow": null,
            "overflow_x": null,
            "overflow_y": null,
            "padding": null,
            "right": null,
            "top": null,
            "visibility": null,
            "width": null
          }
        }
      }
    }
  },
  "nbformat": 4,
  "nbformat_minor": 0
}